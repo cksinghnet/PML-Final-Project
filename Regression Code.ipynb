{
 "cells": [
  {
   "cell_type": "code",
   "execution_count": 1,
   "id": "6bda7d38",
   "metadata": {},
   "outputs": [],
   "source": [
    "import pandas as pd\n",
    "import numpy as np\n",
    "import math\n",
    "import seaborn as sns\n",
    "from numpy.linalg import inv\n",
    "from sklearn.model_selection import train_test_split\n",
    "from scipy.stats import multivariate_normal\n",
    "from sklearn.metrics import f1_score, confusion_matrix\n",
    "from sklearn.utils.multiclass import unique_labels\n",
    "import matplotlib.pyplot as plt\n",
    "%matplotlib inline\n",
    "from sklearn.preprocessing import StandardScaler\n",
    "\n",
    "import warnings\n",
    "warnings.filterwarnings(\"ignore\")"
   ]
  },
  {
   "cell_type": "code",
   "execution_count": 6,
   "id": "69f9bd8b",
   "metadata": {},
   "outputs": [],
   "source": [
    "df = pd.read_csv(r\"C:\\Users\\cks12\\Downloads\\PML Project\\dataset\\raw\\CleanDataset.csv\")"
   ]
  },
  {
   "cell_type": "code",
   "execution_count": 46,
   "id": "1241e142",
   "metadata": {},
   "outputs": [
    {
     "data": {
      "text/html": [
       "<div>\n",
       "<style scoped>\n",
       "    .dataframe tbody tr th:only-of-type {\n",
       "        vertical-align: middle;\n",
       "    }\n",
       "\n",
       "    .dataframe tbody tr th {\n",
       "        vertical-align: top;\n",
       "    }\n",
       "\n",
       "    .dataframe thead th {\n",
       "        text-align: right;\n",
       "    }\n",
       "</style>\n",
       "<table border=\"1\" class=\"dataframe\">\n",
       "  <thead>\n",
       "    <tr style=\"text-align: right;\">\n",
       "      <th></th>\n",
       "      <th>Attrition</th>\n",
       "      <th>HomeToWork</th>\n",
       "      <th>HourlnWeek</th>\n",
       "      <th>Involvement</th>\n",
       "      <th>WorkLifeBalance</th>\n",
       "      <th>JobSatisfaction</th>\n",
       "      <th>ESOPs</th>\n",
       "      <th>NumCompaniesWorked</th>\n",
       "      <th>OverTime</th>\n",
       "      <th>SalaryHikelastYear</th>\n",
       "      <th>...</th>\n",
       "      <th>EducationField_Statistics</th>\n",
       "      <th>Gender_F</th>\n",
       "      <th>Gender_M</th>\n",
       "      <th>Designation_AVP</th>\n",
       "      <th>Designation_Executive</th>\n",
       "      <th>Designation_Manager</th>\n",
       "      <th>Designation_Senior Manager</th>\n",
       "      <th>Designation_VP</th>\n",
       "      <th>MaritalStatus_Married</th>\n",
       "      <th>MaritalStatus_Single</th>\n",
       "    </tr>\n",
       "  </thead>\n",
       "  <tbody>\n",
       "    <tr>\n",
       "      <th>0</th>\n",
       "      <td>0.0</td>\n",
       "      <td>5.0</td>\n",
       "      <td>69.0</td>\n",
       "      <td>1</td>\n",
       "      <td>1</td>\n",
       "      <td>1</td>\n",
       "      <td>1</td>\n",
       "      <td>1</td>\n",
       "      <td>1</td>\n",
       "      <td>20.0</td>\n",
       "      <td>...</td>\n",
       "      <td>0</td>\n",
       "      <td>0</td>\n",
       "      <td>1</td>\n",
       "      <td>0</td>\n",
       "      <td>1</td>\n",
       "      <td>0</td>\n",
       "      <td>0</td>\n",
       "      <td>0</td>\n",
       "      <td>1</td>\n",
       "      <td>0</td>\n",
       "    </tr>\n",
       "    <tr>\n",
       "      <th>1</th>\n",
       "      <td>1.0</td>\n",
       "      <td>5.0</td>\n",
       "      <td>62.0</td>\n",
       "      <td>4</td>\n",
       "      <td>3</td>\n",
       "      <td>2</td>\n",
       "      <td>0</td>\n",
       "      <td>8</td>\n",
       "      <td>0</td>\n",
       "      <td>20.0</td>\n",
       "      <td>...</td>\n",
       "      <td>1</td>\n",
       "      <td>1</td>\n",
       "      <td>0</td>\n",
       "      <td>0</td>\n",
       "      <td>1</td>\n",
       "      <td>0</td>\n",
       "      <td>0</td>\n",
       "      <td>0</td>\n",
       "      <td>0</td>\n",
       "      <td>1</td>\n",
       "    </tr>\n",
       "    <tr>\n",
       "      <th>2</th>\n",
       "      <td>0.0</td>\n",
       "      <td>5.0</td>\n",
       "      <td>45.0</td>\n",
       "      <td>5</td>\n",
       "      <td>3</td>\n",
       "      <td>2</td>\n",
       "      <td>1</td>\n",
       "      <td>3</td>\n",
       "      <td>0</td>\n",
       "      <td>26.0</td>\n",
       "      <td>...</td>\n",
       "      <td>1</td>\n",
       "      <td>1</td>\n",
       "      <td>0</td>\n",
       "      <td>0</td>\n",
       "      <td>0</td>\n",
       "      <td>1</td>\n",
       "      <td>0</td>\n",
       "      <td>0</td>\n",
       "      <td>0</td>\n",
       "      <td>1</td>\n",
       "    </tr>\n",
       "    <tr>\n",
       "      <th>3</th>\n",
       "      <td>0.0</td>\n",
       "      <td>10.0</td>\n",
       "      <td>32.0</td>\n",
       "      <td>3</td>\n",
       "      <td>2</td>\n",
       "      <td>4</td>\n",
       "      <td>1</td>\n",
       "      <td>1</td>\n",
       "      <td>0</td>\n",
       "      <td>23.0</td>\n",
       "      <td>...</td>\n",
       "      <td>1</td>\n",
       "      <td>1</td>\n",
       "      <td>0</td>\n",
       "      <td>0</td>\n",
       "      <td>0</td>\n",
       "      <td>1</td>\n",
       "      <td>0</td>\n",
       "      <td>0</td>\n",
       "      <td>0</td>\n",
       "      <td>0</td>\n",
       "    </tr>\n",
       "    <tr>\n",
       "      <th>4</th>\n",
       "      <td>0.0</td>\n",
       "      <td>27.0</td>\n",
       "      <td>49.0</td>\n",
       "      <td>3</td>\n",
       "      <td>4</td>\n",
       "      <td>4</td>\n",
       "      <td>1</td>\n",
       "      <td>8</td>\n",
       "      <td>0</td>\n",
       "      <td>21.0</td>\n",
       "      <td>...</td>\n",
       "      <td>1</td>\n",
       "      <td>1</td>\n",
       "      <td>0</td>\n",
       "      <td>0</td>\n",
       "      <td>0</td>\n",
       "      <td>1</td>\n",
       "      <td>0</td>\n",
       "      <td>0</td>\n",
       "      <td>0</td>\n",
       "      <td>0</td>\n",
       "    </tr>\n",
       "    <tr>\n",
       "      <th>...</th>\n",
       "      <td>...</td>\n",
       "      <td>...</td>\n",
       "      <td>...</td>\n",
       "      <td>...</td>\n",
       "      <td>...</td>\n",
       "      <td>...</td>\n",
       "      <td>...</td>\n",
       "      <td>...</td>\n",
       "      <td>...</td>\n",
       "      <td>...</td>\n",
       "      <td>...</td>\n",
       "      <td>...</td>\n",
       "      <td>...</td>\n",
       "      <td>...</td>\n",
       "      <td>...</td>\n",
       "      <td>...</td>\n",
       "      <td>...</td>\n",
       "      <td>...</td>\n",
       "      <td>...</td>\n",
       "      <td>...</td>\n",
       "      <td>...</td>\n",
       "    </tr>\n",
       "    <tr>\n",
       "      <th>5175</th>\n",
       "      <td>0.0</td>\n",
       "      <td>13.0</td>\n",
       "      <td>53.0</td>\n",
       "      <td>3</td>\n",
       "      <td>3</td>\n",
       "      <td>3</td>\n",
       "      <td>0</td>\n",
       "      <td>4</td>\n",
       "      <td>1</td>\n",
       "      <td>22.0</td>\n",
       "      <td>...</td>\n",
       "      <td>0</td>\n",
       "      <td>1</td>\n",
       "      <td>0</td>\n",
       "      <td>0</td>\n",
       "      <td>0</td>\n",
       "      <td>1</td>\n",
       "      <td>0</td>\n",
       "      <td>0</td>\n",
       "      <td>0</td>\n",
       "      <td>1</td>\n",
       "    </tr>\n",
       "    <tr>\n",
       "      <th>5176</th>\n",
       "      <td>0.0</td>\n",
       "      <td>9.0</td>\n",
       "      <td>66.0</td>\n",
       "      <td>1</td>\n",
       "      <td>4</td>\n",
       "      <td>4</td>\n",
       "      <td>1</td>\n",
       "      <td>9</td>\n",
       "      <td>0</td>\n",
       "      <td>23.0</td>\n",
       "      <td>...</td>\n",
       "      <td>0</td>\n",
       "      <td>1</td>\n",
       "      <td>0</td>\n",
       "      <td>0</td>\n",
       "      <td>1</td>\n",
       "      <td>0</td>\n",
       "      <td>0</td>\n",
       "      <td>0</td>\n",
       "      <td>0</td>\n",
       "      <td>1</td>\n",
       "    </tr>\n",
       "    <tr>\n",
       "      <th>5177</th>\n",
       "      <td>0.0</td>\n",
       "      <td>9.0</td>\n",
       "      <td>62.0</td>\n",
       "      <td>4</td>\n",
       "      <td>2</td>\n",
       "      <td>1</td>\n",
       "      <td>1</td>\n",
       "      <td>6</td>\n",
       "      <td>0</td>\n",
       "      <td>19.0</td>\n",
       "      <td>...</td>\n",
       "      <td>0</td>\n",
       "      <td>1</td>\n",
       "      <td>0</td>\n",
       "      <td>0</td>\n",
       "      <td>1</td>\n",
       "      <td>0</td>\n",
       "      <td>0</td>\n",
       "      <td>0</td>\n",
       "      <td>1</td>\n",
       "      <td>0</td>\n",
       "    </tr>\n",
       "    <tr>\n",
       "      <th>5178</th>\n",
       "      <td>0.0</td>\n",
       "      <td>26.0</td>\n",
       "      <td>61.0</td>\n",
       "      <td>3</td>\n",
       "      <td>4</td>\n",
       "      <td>3</td>\n",
       "      <td>0</td>\n",
       "      <td>1</td>\n",
       "      <td>0</td>\n",
       "      <td>28.0</td>\n",
       "      <td>...</td>\n",
       "      <td>1</td>\n",
       "      <td>1</td>\n",
       "      <td>0</td>\n",
       "      <td>0</td>\n",
       "      <td>1</td>\n",
       "      <td>0</td>\n",
       "      <td>0</td>\n",
       "      <td>0</td>\n",
       "      <td>0</td>\n",
       "      <td>0</td>\n",
       "    </tr>\n",
       "    <tr>\n",
       "      <th>5179</th>\n",
       "      <td>1.0</td>\n",
       "      <td>13.0</td>\n",
       "      <td>74.0</td>\n",
       "      <td>4</td>\n",
       "      <td>3</td>\n",
       "      <td>5</td>\n",
       "      <td>1</td>\n",
       "      <td>1</td>\n",
       "      <td>0</td>\n",
       "      <td>23.0</td>\n",
       "      <td>...</td>\n",
       "      <td>1</td>\n",
       "      <td>0</td>\n",
       "      <td>1</td>\n",
       "      <td>0</td>\n",
       "      <td>1</td>\n",
       "      <td>0</td>\n",
       "      <td>0</td>\n",
       "      <td>0</td>\n",
       "      <td>0</td>\n",
       "      <td>0</td>\n",
       "    </tr>\n",
       "  </tbody>\n",
       "</table>\n",
       "<p>5180 rows × 33 columns</p>\n",
       "</div>"
      ],
      "text/plain": [
       "      Attrition  HomeToWork  HourlnWeek  Involvement  WorkLifeBalance  \\\n",
       "0           0.0         5.0        69.0            1                1   \n",
       "1           1.0         5.0        62.0            4                3   \n",
       "2           0.0         5.0        45.0            5                3   \n",
       "3           0.0        10.0        32.0            3                2   \n",
       "4           0.0        27.0        49.0            3                4   \n",
       "...         ...         ...         ...          ...              ...   \n",
       "5175        0.0        13.0        53.0            3                3   \n",
       "5176        0.0         9.0        66.0            1                4   \n",
       "5177        0.0         9.0        62.0            4                2   \n",
       "5178        0.0        26.0        61.0            3                4   \n",
       "5179        1.0        13.0        74.0            4                3   \n",
       "\n",
       "      JobSatisfaction  ESOPs  NumCompaniesWorked  OverTime  \\\n",
       "0                   1      1                   1         1   \n",
       "1                   2      0                   8         0   \n",
       "2                   2      1                   3         0   \n",
       "3                   4      1                   1         0   \n",
       "4                   4      1                   8         0   \n",
       "...               ...    ...                 ...       ...   \n",
       "5175                3      0                   4         1   \n",
       "5176                4      1                   9         0   \n",
       "5177                1      1                   6         0   \n",
       "5178                3      0                   1         0   \n",
       "5179                5      1                   1         0   \n",
       "\n",
       "      SalaryHikelastYear  ...  EducationField_Statistics  Gender_F  Gender_M  \\\n",
       "0                   20.0  ...                          0         0         1   \n",
       "1                   20.0  ...                          1         1         0   \n",
       "2                   26.0  ...                          1         1         0   \n",
       "3                   23.0  ...                          1         1         0   \n",
       "4                   21.0  ...                          1         1         0   \n",
       "...                  ...  ...                        ...       ...       ...   \n",
       "5175                22.0  ...                          0         1         0   \n",
       "5176                23.0  ...                          0         1         0   \n",
       "5177                19.0  ...                          0         1         0   \n",
       "5178                28.0  ...                          1         1         0   \n",
       "5179                23.0  ...                          1         0         1   \n",
       "\n",
       "      Designation_AVP  Designation_Executive  Designation_Manager  \\\n",
       "0                   0                      1                    0   \n",
       "1                   0                      1                    0   \n",
       "2                   0                      0                    1   \n",
       "3                   0                      0                    1   \n",
       "4                   0                      0                    1   \n",
       "...               ...                    ...                  ...   \n",
       "5175                0                      0                    1   \n",
       "5176                0                      1                    0   \n",
       "5177                0                      1                    0   \n",
       "5178                0                      1                    0   \n",
       "5179                0                      1                    0   \n",
       "\n",
       "      Designation_Senior Manager  Designation_VP  MaritalStatus_Married  \\\n",
       "0                              0               0                      1   \n",
       "1                              0               0                      0   \n",
       "2                              0               0                      0   \n",
       "3                              0               0                      0   \n",
       "4                              0               0                      0   \n",
       "...                          ...             ...                    ...   \n",
       "5175                           0               0                      0   \n",
       "5176                           0               0                      0   \n",
       "5177                           0               0                      1   \n",
       "5178                           0               0                      0   \n",
       "5179                           0               0                      0   \n",
       "\n",
       "      MaritalStatus_Single  \n",
       "0                        0  \n",
       "1                        1  \n",
       "2                        1  \n",
       "3                        0  \n",
       "4                        0  \n",
       "...                    ...  \n",
       "5175                     1  \n",
       "5176                     1  \n",
       "5177                     0  \n",
       "5178                     0  \n",
       "5179                     0  \n",
       "\n",
       "[5180 rows x 33 columns]"
      ]
     },
     "execution_count": 46,
     "metadata": {},
     "output_type": "execute_result"
    }
   ],
   "source": [
    "df.corr()\n",
    "X=df.drop(columns=['Unnamed: 0','EmployeeID','Age'],axis=1)\n",
    "X"
   ]
  },
  {
   "cell_type": "code",
   "execution_count": 47,
   "id": "88167679",
   "metadata": {},
   "outputs": [],
   "source": [
    "y=df['Age']"
   ]
  },
  {
   "cell_type": "code",
   "execution_count": 48,
   "id": "c36aa131",
   "metadata": {},
   "outputs": [
    {
     "data": {
      "text/plain": [
       "0       35.0\n",
       "1       32.0\n",
       "2       31.0\n",
       "3       34.0\n",
       "4       37.0\n",
       "        ... \n",
       "5175    36.0\n",
       "5176    36.0\n",
       "5177    29.0\n",
       "5178    26.0\n",
       "5179    36.0\n",
       "Name: Age, Length: 5180, dtype: float64"
      ]
     },
     "execution_count": 48,
     "metadata": {},
     "output_type": "execute_result"
    }
   ],
   "source": [
    "y"
   ]
  },
  {
   "cell_type": "code",
   "execution_count": 39,
   "id": "342fafb4",
   "metadata": {},
   "outputs": [
    {
     "data": {
      "text/plain": [
       "count    5180.000000\n",
       "mean       37.040927\n",
       "std         8.965977\n",
       "min        18.000000\n",
       "25%        31.000000\n",
       "50%        36.000000\n",
       "75%        42.000000\n",
       "max        61.000000\n",
       "Name: Age, dtype: float64"
      ]
     },
     "execution_count": 39,
     "metadata": {},
     "output_type": "execute_result"
    }
   ],
   "source": [
    "y.describe()"
   ]
  },
  {
   "cell_type": "code",
   "execution_count": 51,
   "id": "ed0c3a9f",
   "metadata": {},
   "outputs": [],
   "source": [
    "Xtrain, Xtest, ytrain, ytest = train_test_split(X, y,test_size=0.2,random_state=43)"
   ]
  },
  {
   "cell_type": "code",
   "execution_count": 52,
   "id": "f1d2a709",
   "metadata": {},
   "outputs": [],
   "source": [
    "scaler = StandardScaler()\n",
    "Xtrain_scaled = scaler.fit_transform(Xtrain)\n",
    "Xtest_scaled = scaler.transform(Xtest)"
   ]
  },
  {
   "cell_type": "code",
   "execution_count": 56,
   "id": "74c9f432",
   "metadata": {},
   "outputs": [
    {
     "data": {
      "text/plain": [
       "(1036, 33)"
      ]
     },
     "execution_count": 56,
     "metadata": {},
     "output_type": "execute_result"
    }
   ],
   "source": [
    "Xtest_scaled.shape"
   ]
  },
  {
   "cell_type": "code",
   "execution_count": 57,
   "id": "f3b08040",
   "metadata": {},
   "outputs": [
    {
     "data": {
      "text/plain": [
       "(1036,)"
      ]
     },
     "execution_count": 57,
     "metadata": {},
     "output_type": "execute_result"
    }
   ],
   "source": [
    "ytest.shape"
   ]
  },
  {
   "cell_type": "code",
   "execution_count": 70,
   "id": "e54f393d",
   "metadata": {},
   "outputs": [
    {
     "data": {
      "text/plain": [
       "(1036, 33)"
      ]
     },
     "execution_count": 70,
     "metadata": {},
     "output_type": "execute_result"
    }
   ],
   "source": [
    "Xtest_scaled.shape"
   ]
  },
  {
   "cell_type": "code",
   "execution_count": 72,
   "id": "eee97c63",
   "metadata": {},
   "outputs": [
    {
     "data": {
      "text/plain": [
       "(4144, 34)"
      ]
     },
     "execution_count": 72,
     "metadata": {},
     "output_type": "execute_result"
    }
   ],
   "source": [
    "Xtrain_scaled_m = np.hstack((np.ones_like(Xtrain_scaled[:,:1]), Xtrain_scaled))\n",
    "Xtest_scaled_m = np.hstack((np.ones_like(Xtest_scaled[:,:1]), Xtest_scaled))\n",
    "Xtrain_scaled_m.shape"
   ]
  },
  {
   "cell_type": "code",
   "execution_count": 61,
   "id": "9a9918b7",
   "metadata": {},
   "outputs": [
    {
     "name": "stdout",
     "output_type": "stream",
     "text": [
      "[ 3.58200201e+00 -2.00142799e-02  1.19154086e-03  9.42975393e-04\n",
      " -1.28873980e-03  3.10460542e-04 -1.93725385e-03 -3.29427527e-03\n",
      "  3.25265928e-02  1.11272995e-02  6.18972080e-03  1.64487457e-01\n",
      "  3.73500356e-03 -2.21086745e-02 -1.08292338e-02 -1.11824311e-03\n",
      "  4.52944554e-04  5.37219417e-02  2.29768495e-02  4.53760978e-02\n",
      "  1.06105724e-03  5.95304619e-03  1.86648016e-03  1.43472939e-02\n",
      "  1.09806103e-02  3.85693903e-04  2.08403086e-03 -1.30232400e-02\n",
      " -1.46757192e-02 -1.03440659e-02 -3.88705811e-03 -1.03845879e-02\n",
      " -2.85043751e-03 -1.47037446e-02]\n"
     ]
    }
   ],
   "source": [
    "w = np.linalg.solve(np.dot(Xtrain_scaled_m.T, Xtrain_scaled_m), np.dot(Xtrain_scaled_m.T, np.log(ytrain)))\n",
    "print(w)"
   ]
  },
  {
   "cell_type": "code",
   "execution_count": 65,
   "id": "45709f9e",
   "metadata": {},
   "outputs": [
    {
     "data": {
      "text/plain": [
       "(34,)"
      ]
     },
     "execution_count": 65,
     "metadata": {},
     "output_type": "execute_result"
    }
   ],
   "source": [
    "w.shape"
   ]
  },
  {
   "cell_type": "code",
   "execution_count": 79,
   "id": "d7b552b8",
   "metadata": {},
   "outputs": [],
   "source": [
    "def predict(x, w):\n",
    "    X_p = np.hstack((np.ones_like(x[:,:1]), x))\n",
    "    return np.exp(np.dot(X_p ,w))"
   ]
  },
  {
   "cell_type": "code",
   "execution_count": 84,
   "id": "ae5b1302",
   "metadata": {},
   "outputs": [
    {
     "data": {
      "image/png": "[encoded data removed]",
      "text/plain": [
       "<Figure size 640x480 with 1 Axes>"
      ]
     },
     "metadata": {},
     "output_type": "display_data"
    }
   ],
   "source": [
    "def plot_fit(x_test, y_test, x, y):\n",
    "    plt.plot(x_test[:,:1], y_test, 'g:')\n",
    "    plt.plot(x[:,:1], y, 'b:')\n",
    "    plt.ylabel(\"y (Cost)\")\n",
    "    plt.xlabel(\"x (Year)\")\n",
    "    plt.show()\n",
    "\n",
    "\n",
    "plot_fit(Xtest_scaled, predict(Xtest_scaled, w), Xtrain_scaled, ytrain)"
   ]
  },
  {
   "cell_type": "code",
   "execution_count": 83,
   "id": "948b999e",
   "metadata": {},
   "outputs": [
    {
     "name": "stdout",
     "output_type": "stream",
     "text": [
      "6.400069586432237\n"
     ]
    }
   ],
   "source": [
    "def compute_RSS(x, y, w):\n",
    "    return np.sqrt(np.mean((y - predict(x, w)) ** 2))\n",
    "    \n",
    "\n",
    "print(compute_RSS(Xtest_scaled, ytest,w))"
   ]
  },
  {
   "cell_type": "code",
   "execution_count": null,
   "id": "622b649b",
   "metadata": {},
   "outputs": [],
   "source": []
  }
 ],
 "metadata": {
  "kernelspec": {
   "display_name": "Python 3 (ipykernel)",
   "language": "python",
   "name": "python3"
  },
  "language_info": {
   "codemirror_mode": {
    "name": "ipython",
    "version": 3
   },
   "file_extension": ".py",
   "mimetype": "text/x-python",
   "name": "python",
   "nbconvert_exporter": "python",
   "pygments_lexer": "ipython3",
   "version": "3.11.4"
  }
 },
 "nbformat": 4,
 "nbformat_minor": 5
}
