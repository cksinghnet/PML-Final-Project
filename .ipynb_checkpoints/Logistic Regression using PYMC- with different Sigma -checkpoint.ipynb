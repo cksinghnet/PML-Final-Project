{
 "cells": [
  {
   "cell_type": "code",
   "execution_count": 1,
   "id": "30f26c26",
   "metadata": {},
   "outputs": [],
   "source": [
    "import pandas as pd\n",
    "import numpy as np\n",
    "import math\n",
    "import seaborn as sns\n",
    "from numpy.linalg import inv\n",
    "from sklearn.model_selection import train_test_split\n",
    "from scipy.stats import multivariate_normal\n",
    "from sklearn.metrics import f1_score, confusion_matrix,accuracy_score\n",
    "from sklearn.utils.multiclass import unique_labels\n",
    "import matplotlib.pyplot as plt\n",
    "%matplotlib inline\n",
    "from sklearn.preprocessing import StandardScaler\n",
    "from scipy.special import expit\n",
    "import pymc as pm\n",
    "import numpy as np\n",
    "import arviz as az\n",
    "\n",
    "import warnings\n",
    "warnings.filterwarnings(\"ignore\")"
   ]
  },
  {
   "cell_type": "code",
   "execution_count": 2,
   "id": "54032b64",
   "metadata": {},
   "outputs": [
    {
     "data": {
      "text/plain": [
       "WorkExperience                     -0.216722\n",
       "MonthlyIncome                      -0.202379\n",
       "CurrentProfile                     -0.198538\n",
       "Age                                -0.180490\n",
       "MaritalStatus_Married              -0.165064\n",
       "Designation_Manager                -0.141719\n",
       "Designation_AVP                    -0.115766\n",
       "Department_Analytics               -0.114451\n",
       "Designation_VP                     -0.072545\n",
       "EducationField_CA                  -0.052707\n",
       "TravelProfile_Rarely               -0.051362\n",
       "Gender_F                           -0.048519\n",
       "EducationField_Statistics          -0.048031\n",
       "LastPromotion                      -0.038565\n",
       "Designation_Senior Manager         -0.032605\n",
       "Unnamed: 0                         -0.023067\n",
       "EmployeeID                         -0.023067\n",
       "SalaryHikelastYear                 -0.006778\n",
       "Department_Marketing                0.010778\n",
       "ESOPs                               0.012200\n",
       "WorkLifeBalance                     0.013608\n",
       "HourlnWeek                          0.021145\n",
       "EducationField_MBA                  0.035813\n",
       "Gender_M                            0.035902\n",
       "NumCompaniesWorked                  0.049829\n",
       "EducationField_Marketing Diploma    0.070850\n",
       "Department_Sales                    0.078507\n",
       "HomeToWork                          0.086266\n",
       "EducationField_Engineer             0.090186\n",
       "TravelProfile_Yes                   0.123964\n",
       "JobSatisfaction                     0.126745\n",
       "Involvement                         0.144332\n",
       "MaritalStatus_Single                0.219068\n",
       "Designation_Executive               0.239871\n",
       "OverTime                            0.281113\n",
       "Attrition                           1.000000\n",
       "Name: Attrition, dtype: float64"
      ]
     },
     "execution_count": 2,
     "metadata": {},
     "output_type": "execute_result"
    }
   ],
   "source": [
    "df = pd.read_csv(r\".\\dataset\\raw\\CleanDataset.csv\")\n",
    "df.corr()['Attrition'].sort_values()"
   ]
  },
  {
   "cell_type": "code",
   "execution_count": 3,
   "id": "c221388e",
   "metadata": {},
   "outputs": [],
   "source": [
    "X=df[['Age','WorkExperience','MonthlyIncome','CurrentProfile','OverTime','MaritalStatus_Single']]"
   ]
  },
  {
   "cell_type": "code",
   "execution_count": 4,
   "id": "ae9bb6e4",
   "metadata": {},
   "outputs": [],
   "source": [
    "y=df['Attrition']"
   ]
  },
  {
   "cell_type": "code",
   "execution_count": 5,
   "id": "a108021c",
   "metadata": {},
   "outputs": [],
   "source": [
    "Xtrain, Xtest, ytrain, ytest = train_test_split(X, y)"
   ]
  },
  {
   "cell_type": "code",
   "execution_count": 6,
   "id": "28367f5b",
   "metadata": {},
   "outputs": [],
   "source": [
    "scaler = StandardScaler()\n",
    "Xtrain_scaled = scaler.fit_transform(Xtrain)\n",
    "Xtest_scaled = scaler.transform(Xtest)"
   ]
  },
  {
   "cell_type": "code",
   "execution_count": 9,
   "id": "9e8ad003",
   "metadata": {},
   "outputs": [
    {
     "name": "stdout",
     "output_type": "stream",
     "text": [
      "\n",
      "Sampling with prior: N(0, 1²)\n"
     ]
    },
    {
     "name": "stderr",
     "output_type": "stream",
     "text": [
      "Auto-assigning NUTS sampler...\n",
      "Initializing NUTS using jitter+adapt_diag...\n",
      "Multiprocess sampling (4 chains in 4 jobs)\n",
      "NUTS: [w]\n"
     ]
    },
    {
     "data": {
      "text/html": [
       "\n",
       "<style>\n",
       "    /* Turns off some styling */\n",
       "    progress {\n",
       "        /* gets rid of default border in Firefox and Opera. */\n",
       "        border: none;\n",
       "        /* Needs to be in here for Safari polyfill so background images work as expected. */\n",
       "        background-size: auto;\n",
       "    }\n",
       "    progress:not([value]), progress:not([value])::-webkit-progress-bar {\n",
       "        background: repeating-linear-gradient(45deg, #7e7e7e, #7e7e7e 10px, #5c5c5c 10px, #5c5c5c 20px);\n",
       "    }\n",
       "    .progress-bar-interrupted, .progress-bar-interrupted::-webkit-progress-bar {\n",
       "        background: #F44336;\n",
       "    }\n",
       "</style>\n"
      ],
      "text/plain": [
       "<IPython.core.display.HTML object>"
      ]
     },
     "metadata": {},
     "output_type": "display_data"
    },
    {
     "data": {
      "text/html": [
       "\n",
       "    <div>\n",
       "      <progress value='8000' class='' max='8000' style='width:300px; height:20px; vertical-align: middle;'></progress>\n",
       "      100.00% [8000/8000 00:34&lt;00:00 Sampling 4 chains, 0 divergences]\n",
       "    </div>\n",
       "    "
      ],
      "text/plain": [
       "<IPython.core.display.HTML object>"
      ]
     },
     "metadata": {},
     "output_type": "display_data"
    },
    {
     "name": "stderr",
     "output_type": "stream",
     "text": [
      "Sampling 4 chains for 1_000 tune and 1_000 draw iterations (4_000 + 4_000 draws total) took 58 seconds.\n"
     ]
    },
    {
     "name": "stdout",
     "output_type": "stream",
     "text": [
      "\n",
      "Sampling with prior: N(0, 5²)\n"
     ]
    },
    {
     "name": "stderr",
     "output_type": "stream",
     "text": [
      "Auto-assigning NUTS sampler...\n",
      "Initializing NUTS using jitter+adapt_diag...\n",
      "Multiprocess sampling (4 chains in 4 jobs)\n",
      "NUTS: [w]\n"
     ]
    },
    {
     "data": {
      "text/html": [
       "\n",
       "<style>\n",
       "    /* Turns off some styling */\n",
       "    progress {\n",
       "        /* gets rid of default border in Firefox and Opera. */\n",
       "        border: none;\n",
       "        /* Needs to be in here for Safari polyfill so background images work as expected. */\n",
       "        background-size: auto;\n",
       "    }\n",
       "    progress:not([value]), progress:not([value])::-webkit-progress-bar {\n",
       "        background: repeating-linear-gradient(45deg, #7e7e7e, #7e7e7e 10px, #5c5c5c 10px, #5c5c5c 20px);\n",
       "    }\n",
       "    .progress-bar-interrupted, .progress-bar-interrupted::-webkit-progress-bar {\n",
       "        background: #F44336;\n",
       "    }\n",
       "</style>\n"
      ],
      "text/plain": [
       "<IPython.core.display.HTML object>"
      ]
     },
     "metadata": {},
     "output_type": "display_data"
    },
    {
     "data": {
      "text/html": [
       "\n",
       "    <div>\n",
       "      <progress value='8000' class='' max='8000' style='width:300px; height:20px; vertical-align: middle;'></progress>\n",
       "      100.00% [8000/8000 00:41&lt;00:00 Sampling 4 chains, 0 divergences]\n",
       "    </div>\n",
       "    "
      ],
      "text/plain": [
       "<IPython.core.display.HTML object>"
      ]
     },
     "metadata": {},
     "output_type": "display_data"
    },
    {
     "name": "stderr",
     "output_type": "stream",
     "text": [
      "Sampling 4 chains for 1_000 tune and 1_000 draw iterations (4_000 + 4_000 draws total) took 67 seconds.\n"
     ]
    },
    {
     "name": "stdout",
     "output_type": "stream",
     "text": [
      "\n",
      "Sampling with prior: N(0, 10²)\n"
     ]
    },
    {
     "name": "stderr",
     "output_type": "stream",
     "text": [
      "Auto-assigning NUTS sampler...\n",
      "Initializing NUTS using jitter+adapt_diag...\n",
      "Multiprocess sampling (4 chains in 4 jobs)\n",
      "NUTS: [w]\n"
     ]
    },
    {
     "data": {
      "text/html": [
       "\n",
       "<style>\n",
       "    /* Turns off some styling */\n",
       "    progress {\n",
       "        /* gets rid of default border in Firefox and Opera. */\n",
       "        border: none;\n",
       "        /* Needs to be in here for Safari polyfill so background images work as expected. */\n",
       "        background-size: auto;\n",
       "    }\n",
       "    progress:not([value]), progress:not([value])::-webkit-progress-bar {\n",
       "        background: repeating-linear-gradient(45deg, #7e7e7e, #7e7e7e 10px, #5c5c5c 10px, #5c5c5c 20px);\n",
       "    }\n",
       "    .progress-bar-interrupted, .progress-bar-interrupted::-webkit-progress-bar {\n",
       "        background: #F44336;\n",
       "    }\n",
       "</style>\n"
      ],
      "text/plain": [
       "<IPython.core.display.HTML object>"
      ]
     },
     "metadata": {},
     "output_type": "display_data"
    },
    {
     "data": {
      "text/html": [
       "\n",
       "    <div>\n",
       "      <progress value='8000' class='' max='8000' style='width:300px; height:20px; vertical-align: middle;'></progress>\n",
       "      100.00% [8000/8000 00:40&lt;00:00 Sampling 4 chains, 0 divergences]\n",
       "    </div>\n",
       "    "
      ],
      "text/plain": [
       "<IPython.core.display.HTML object>"
      ]
     },
     "metadata": {},
     "output_type": "display_data"
    },
    {
     "name": "stderr",
     "output_type": "stream",
     "text": [
      "Sampling 4 chains for 1_000 tune and 1_000 draw iterations (4_000 + 4_000 draws total) took 64 seconds.\n"
     ]
    },
    {
     "name": "stdout",
     "output_type": "stream",
     "text": [
      "\n",
      "Posterior summary for prior N(0, 1²):\n"
     ]
    },
    {
     "data": {
      "text/html": [
       "<div>\n",
       "<style scoped>\n",
       "    .dataframe tbody tr th:only-of-type {\n",
       "        vertical-align: middle;\n",
       "    }\n",
       "\n",
       "    .dataframe tbody tr th {\n",
       "        vertical-align: top;\n",
       "    }\n",
       "\n",
       "    .dataframe thead th {\n",
       "        text-align: right;\n",
       "    }\n",
       "</style>\n",
       "<table border=\"1\" class=\"dataframe\">\n",
       "  <thead>\n",
       "    <tr style=\"text-align: right;\">\n",
       "      <th></th>\n",
       "      <th>mean</th>\n",
       "      <th>sd</th>\n",
       "      <th>hdi_2.5%</th>\n",
       "      <th>hdi_97.5%</th>\n",
       "      <th>mcse_mean</th>\n",
       "      <th>mcse_sd</th>\n",
       "      <th>ess_bulk</th>\n",
       "      <th>ess_tail</th>\n",
       "      <th>r_hat</th>\n",
       "    </tr>\n",
       "  </thead>\n",
       "  <tbody>\n",
       "    <tr>\n",
       "      <th>w[0]</th>\n",
       "      <td>-0.203</td>\n",
       "      <td>0.048</td>\n",
       "      <td>-0.299</td>\n",
       "      <td>-0.112</td>\n",
       "      <td>0.001</td>\n",
       "      <td>0.001</td>\n",
       "      <td>3124.0</td>\n",
       "      <td>2682.0</td>\n",
       "      <td>1.0</td>\n",
       "    </tr>\n",
       "    <tr>\n",
       "      <th>w[1]</th>\n",
       "      <td>-0.013</td>\n",
       "      <td>0.067</td>\n",
       "      <td>-0.149</td>\n",
       "      <td>0.113</td>\n",
       "      <td>0.001</td>\n",
       "      <td>0.001</td>\n",
       "      <td>2345.0</td>\n",
       "      <td>2447.0</td>\n",
       "      <td>1.0</td>\n",
       "    </tr>\n",
       "    <tr>\n",
       "      <th>w[2]</th>\n",
       "      <td>-0.201</td>\n",
       "      <td>0.054</td>\n",
       "      <td>-0.304</td>\n",
       "      <td>-0.094</td>\n",
       "      <td>0.001</td>\n",
       "      <td>0.001</td>\n",
       "      <td>2983.0</td>\n",
       "      <td>2871.0</td>\n",
       "      <td>1.0</td>\n",
       "    </tr>\n",
       "    <tr>\n",
       "      <th>w[3]</th>\n",
       "      <td>-0.238</td>\n",
       "      <td>0.041</td>\n",
       "      <td>-0.322</td>\n",
       "      <td>-0.160</td>\n",
       "      <td>0.001</td>\n",
       "      <td>0.000</td>\n",
       "      <td>3604.0</td>\n",
       "      <td>2937.0</td>\n",
       "      <td>1.0</td>\n",
       "    </tr>\n",
       "    <tr>\n",
       "      <th>w[4]</th>\n",
       "      <td>0.558</td>\n",
       "      <td>0.036</td>\n",
       "      <td>0.491</td>\n",
       "      <td>0.633</td>\n",
       "      <td>0.001</td>\n",
       "      <td>0.000</td>\n",
       "      <td>4056.0</td>\n",
       "      <td>2678.0</td>\n",
       "      <td>1.0</td>\n",
       "    </tr>\n",
       "    <tr>\n",
       "      <th>w[5]</th>\n",
       "      <td>0.385</td>\n",
       "      <td>0.036</td>\n",
       "      <td>0.315</td>\n",
       "      <td>0.453</td>\n",
       "      <td>0.001</td>\n",
       "      <td>0.000</td>\n",
       "      <td>4867.0</td>\n",
       "      <td>2912.0</td>\n",
       "      <td>1.0</td>\n",
       "    </tr>\n",
       "  </tbody>\n",
       "</table>\n",
       "</div>"
      ],
      "text/plain": [
       "       mean     sd  hdi_2.5%  hdi_97.5%  mcse_mean  mcse_sd  ess_bulk  \\\n",
       "w[0] -0.203  0.048    -0.299     -0.112      0.001    0.001    3124.0   \n",
       "w[1] -0.013  0.067    -0.149      0.113      0.001    0.001    2345.0   \n",
       "w[2] -0.201  0.054    -0.304     -0.094      0.001    0.001    2983.0   \n",
       "w[3] -0.238  0.041    -0.322     -0.160      0.001    0.000    3604.0   \n",
       "w[4]  0.558  0.036     0.491      0.633      0.001    0.000    4056.0   \n",
       "w[5]  0.385  0.036     0.315      0.453      0.001    0.000    4867.0   \n",
       "\n",
       "      ess_tail  r_hat  \n",
       "w[0]    2682.0    1.0  \n",
       "w[1]    2447.0    1.0  \n",
       "w[2]    2871.0    1.0  \n",
       "w[3]    2937.0    1.0  \n",
       "w[4]    2678.0    1.0  \n",
       "w[5]    2912.0    1.0  "
      ]
     },
     "metadata": {},
     "output_type": "display_data"
    },
    {
     "name": "stdout",
     "output_type": "stream",
     "text": [
      "\n",
      "Posterior summary for prior N(0, 5²):\n"
     ]
    },
    {
     "data": {
      "text/html": [
       "<div>\n",
       "<style scoped>\n",
       "    .dataframe tbody tr th:only-of-type {\n",
       "        vertical-align: middle;\n",
       "    }\n",
       "\n",
       "    .dataframe tbody tr th {\n",
       "        vertical-align: top;\n",
       "    }\n",
       "\n",
       "    .dataframe thead th {\n",
       "        text-align: right;\n",
       "    }\n",
       "</style>\n",
       "<table border=\"1\" class=\"dataframe\">\n",
       "  <thead>\n",
       "    <tr style=\"text-align: right;\">\n",
       "      <th></th>\n",
       "      <th>mean</th>\n",
       "      <th>sd</th>\n",
       "      <th>hdi_2.5%</th>\n",
       "      <th>hdi_97.5%</th>\n",
       "      <th>mcse_mean</th>\n",
       "      <th>mcse_sd</th>\n",
       "      <th>ess_bulk</th>\n",
       "      <th>ess_tail</th>\n",
       "      <th>r_hat</th>\n",
       "    </tr>\n",
       "  </thead>\n",
       "  <tbody>\n",
       "    <tr>\n",
       "      <th>w[0]</th>\n",
       "      <td>-0.202</td>\n",
       "      <td>0.047</td>\n",
       "      <td>-0.291</td>\n",
       "      <td>-0.107</td>\n",
       "      <td>0.001</td>\n",
       "      <td>0.001</td>\n",
       "      <td>3050.0</td>\n",
       "      <td>2877.0</td>\n",
       "      <td>1.0</td>\n",
       "    </tr>\n",
       "    <tr>\n",
       "      <th>w[1]</th>\n",
       "      <td>-0.015</td>\n",
       "      <td>0.066</td>\n",
       "      <td>-0.157</td>\n",
       "      <td>0.105</td>\n",
       "      <td>0.001</td>\n",
       "      <td>0.001</td>\n",
       "      <td>2367.0</td>\n",
       "      <td>2564.0</td>\n",
       "      <td>1.0</td>\n",
       "    </tr>\n",
       "    <tr>\n",
       "      <th>w[2]</th>\n",
       "      <td>-0.201</td>\n",
       "      <td>0.055</td>\n",
       "      <td>-0.306</td>\n",
       "      <td>-0.091</td>\n",
       "      <td>0.001</td>\n",
       "      <td>0.001</td>\n",
       "      <td>3258.0</td>\n",
       "      <td>3195.0</td>\n",
       "      <td>1.0</td>\n",
       "    </tr>\n",
       "    <tr>\n",
       "      <th>w[3]</th>\n",
       "      <td>-0.238</td>\n",
       "      <td>0.040</td>\n",
       "      <td>-0.312</td>\n",
       "      <td>-0.159</td>\n",
       "      <td>0.001</td>\n",
       "      <td>0.000</td>\n",
       "      <td>4191.0</td>\n",
       "      <td>2874.0</td>\n",
       "      <td>1.0</td>\n",
       "    </tr>\n",
       "    <tr>\n",
       "      <th>w[4]</th>\n",
       "      <td>0.558</td>\n",
       "      <td>0.036</td>\n",
       "      <td>0.487</td>\n",
       "      <td>0.628</td>\n",
       "      <td>0.001</td>\n",
       "      <td>0.000</td>\n",
       "      <td>5091.0</td>\n",
       "      <td>2656.0</td>\n",
       "      <td>1.0</td>\n",
       "    </tr>\n",
       "    <tr>\n",
       "      <th>w[5]</th>\n",
       "      <td>0.385</td>\n",
       "      <td>0.035</td>\n",
       "      <td>0.319</td>\n",
       "      <td>0.458</td>\n",
       "      <td>0.001</td>\n",
       "      <td>0.000</td>\n",
       "      <td>3806.0</td>\n",
       "      <td>2765.0</td>\n",
       "      <td>1.0</td>\n",
       "    </tr>\n",
       "  </tbody>\n",
       "</table>\n",
       "</div>"
      ],
      "text/plain": [
       "       mean     sd  hdi_2.5%  hdi_97.5%  mcse_mean  mcse_sd  ess_bulk  \\\n",
       "w[0] -0.202  0.047    -0.291     -0.107      0.001    0.001    3050.0   \n",
       "w[1] -0.015  0.066    -0.157      0.105      0.001    0.001    2367.0   \n",
       "w[2] -0.201  0.055    -0.306     -0.091      0.001    0.001    3258.0   \n",
       "w[3] -0.238  0.040    -0.312     -0.159      0.001    0.000    4191.0   \n",
       "w[4]  0.558  0.036     0.487      0.628      0.001    0.000    5091.0   \n",
       "w[5]  0.385  0.035     0.319      0.458      0.001    0.000    3806.0   \n",
       "\n",
       "      ess_tail  r_hat  \n",
       "w[0]    2877.0    1.0  \n",
       "w[1]    2564.0    1.0  \n",
       "w[2]    3195.0    1.0  \n",
       "w[3]    2874.0    1.0  \n",
       "w[4]    2656.0    1.0  \n",
       "w[5]    2765.0    1.0  "
      ]
     },
     "metadata": {},
     "output_type": "display_data"
    },
    {
     "name": "stdout",
     "output_type": "stream",
     "text": [
      "\n",
      "Posterior summary for prior N(0, 10²):\n"
     ]
    },
    {
     "data": {
      "text/html": [
       "<div>\n",
       "<style scoped>\n",
       "    .dataframe tbody tr th:only-of-type {\n",
       "        vertical-align: middle;\n",
       "    }\n",
       "\n",
       "    .dataframe tbody tr th {\n",
       "        vertical-align: top;\n",
       "    }\n",
       "\n",
       "    .dataframe thead th {\n",
       "        text-align: right;\n",
       "    }\n",
       "</style>\n",
       "<table border=\"1\" class=\"dataframe\">\n",
       "  <thead>\n",
       "    <tr style=\"text-align: right;\">\n",
       "      <th></th>\n",
       "      <th>mean</th>\n",
       "      <th>sd</th>\n",
       "      <th>hdi_2.5%</th>\n",
       "      <th>hdi_97.5%</th>\n",
       "      <th>mcse_mean</th>\n",
       "      <th>mcse_sd</th>\n",
       "      <th>ess_bulk</th>\n",
       "      <th>ess_tail</th>\n",
       "      <th>r_hat</th>\n",
       "    </tr>\n",
       "  </thead>\n",
       "  <tbody>\n",
       "    <tr>\n",
       "      <th>w[0]</th>\n",
       "      <td>-0.204</td>\n",
       "      <td>0.046</td>\n",
       "      <td>-0.291</td>\n",
       "      <td>-0.110</td>\n",
       "      <td>0.001</td>\n",
       "      <td>0.001</td>\n",
       "      <td>3465.0</td>\n",
       "      <td>2946.0</td>\n",
       "      <td>1.0</td>\n",
       "    </tr>\n",
       "    <tr>\n",
       "      <th>w[1]</th>\n",
       "      <td>-0.013</td>\n",
       "      <td>0.065</td>\n",
       "      <td>-0.141</td>\n",
       "      <td>0.112</td>\n",
       "      <td>0.001</td>\n",
       "      <td>0.001</td>\n",
       "      <td>2440.0</td>\n",
       "      <td>2640.0</td>\n",
       "      <td>1.0</td>\n",
       "    </tr>\n",
       "    <tr>\n",
       "      <th>w[2]</th>\n",
       "      <td>-0.200</td>\n",
       "      <td>0.054</td>\n",
       "      <td>-0.312</td>\n",
       "      <td>-0.101</td>\n",
       "      <td>0.001</td>\n",
       "      <td>0.001</td>\n",
       "      <td>3260.0</td>\n",
       "      <td>2977.0</td>\n",
       "      <td>1.0</td>\n",
       "    </tr>\n",
       "    <tr>\n",
       "      <th>w[3]</th>\n",
       "      <td>-0.238</td>\n",
       "      <td>0.040</td>\n",
       "      <td>-0.321</td>\n",
       "      <td>-0.162</td>\n",
       "      <td>0.001</td>\n",
       "      <td>0.000</td>\n",
       "      <td>3550.0</td>\n",
       "      <td>2786.0</td>\n",
       "      <td>1.0</td>\n",
       "    </tr>\n",
       "    <tr>\n",
       "      <th>w[4]</th>\n",
       "      <td>0.558</td>\n",
       "      <td>0.036</td>\n",
       "      <td>0.488</td>\n",
       "      <td>0.628</td>\n",
       "      <td>0.001</td>\n",
       "      <td>0.000</td>\n",
       "      <td>4617.0</td>\n",
       "      <td>3060.0</td>\n",
       "      <td>1.0</td>\n",
       "    </tr>\n",
       "    <tr>\n",
       "      <th>w[5]</th>\n",
       "      <td>0.384</td>\n",
       "      <td>0.035</td>\n",
       "      <td>0.313</td>\n",
       "      <td>0.449</td>\n",
       "      <td>0.001</td>\n",
       "      <td>0.000</td>\n",
       "      <td>5015.0</td>\n",
       "      <td>3329.0</td>\n",
       "      <td>1.0</td>\n",
       "    </tr>\n",
       "  </tbody>\n",
       "</table>\n",
       "</div>"
      ],
      "text/plain": [
       "       mean     sd  hdi_2.5%  hdi_97.5%  mcse_mean  mcse_sd  ess_bulk  \\\n",
       "w[0] -0.204  0.046    -0.291     -0.110      0.001    0.001    3465.0   \n",
       "w[1] -0.013  0.065    -0.141      0.112      0.001    0.001    2440.0   \n",
       "w[2] -0.200  0.054    -0.312     -0.101      0.001    0.001    3260.0   \n",
       "w[3] -0.238  0.040    -0.321     -0.162      0.001    0.000    3550.0   \n",
       "w[4]  0.558  0.036     0.488      0.628      0.001    0.000    4617.0   \n",
       "w[5]  0.384  0.035     0.313      0.449      0.001    0.000    5015.0   \n",
       "\n",
       "      ess_tail  r_hat  \n",
       "w[0]    2946.0    1.0  \n",
       "w[1]    2640.0    1.0  \n",
       "w[2]    2977.0    1.0  \n",
       "w[3]    2786.0    1.0  \n",
       "w[4]    3060.0    1.0  \n",
       "w[5]    3329.0    1.0  "
      ]
     },
     "metadata": {},
     "output_type": "display_data"
    },
    {
     "data": {
      "image/png": "[encoded data removed]",
      "text/plain": [
       "<Figure size 600x780 with 1 Axes>"
      ]
     },
     "metadata": {},
     "output_type": "display_data"
    },
    {
     "ename": "NameError",
     "evalue": "name 'expit' is not defined",
     "output_type": "error",
     "traceback": [
      "\u001b[1;31m---------------------------------------------------------------------------\u001b[0m",
      "\u001b[1;31mNameError\u001b[0m                                 Traceback (most recent call last)",
      "Cell \u001b[1;32mIn[9], line 42\u001b[0m\n\u001b[0;32m     40\u001b[0m \u001b[38;5;66;03m# Evaluate predictive accuracy for each prior\u001b[39;00m\n\u001b[0;32m     41\u001b[0m \u001b[38;5;28;01mfor\u001b[39;00m sigma \u001b[38;5;129;01min\u001b[39;00m priors:\n\u001b[1;32m---> 42\u001b[0m     probs, preds \u001b[38;5;241m=\u001b[39m predict(Xtest_scaled, traces[sigma])\n\u001b[0;32m     43\u001b[0m     acc \u001b[38;5;241m=\u001b[39m accuracy_score(ytest, preds)\n\u001b[0;32m     44\u001b[0m     \u001b[38;5;28mprint\u001b[39m(\u001b[38;5;124mf\u001b[39m\u001b[38;5;124m\"\u001b[39m\u001b[38;5;124mAccuracy with prior N(0, \u001b[39m\u001b[38;5;132;01m{\u001b[39;00msigma\u001b[38;5;132;01m}\u001b[39;00m\u001b[38;5;124m²): \u001b[39m\u001b[38;5;132;01m{\u001b[39;00macc\u001b[38;5;132;01m:\u001b[39;00m\u001b[38;5;124m.4f\u001b[39m\u001b[38;5;132;01m}\u001b[39;00m\u001b[38;5;124m\"\u001b[39m)\n",
      "Cell \u001b[1;32mIn[9], line 36\u001b[0m, in \u001b[0;36mpredict\u001b[1;34m(Xtest, trace)\u001b[0m\n\u001b[0;32m     34\u001b[0m w_samples \u001b[38;5;241m=\u001b[39m trace\u001b[38;5;241m.\u001b[39mposterior[\u001b[38;5;124m\"\u001b[39m\u001b[38;5;124mw\u001b[39m\u001b[38;5;124m\"\u001b[39m]\u001b[38;5;241m.\u001b[39mstack(sample\u001b[38;5;241m=\u001b[39m(\u001b[38;5;124m\"\u001b[39m\u001b[38;5;124mchain\u001b[39m\u001b[38;5;124m\"\u001b[39m, \u001b[38;5;124m\"\u001b[39m\u001b[38;5;124mdraw\u001b[39m\u001b[38;5;124m\"\u001b[39m))\u001b[38;5;241m.\u001b[39mvalues\u001b[38;5;241m.\u001b[39mT\n\u001b[0;32m     35\u001b[0m logits \u001b[38;5;241m=\u001b[39m Xtest \u001b[38;5;241m@\u001b[39m w_samples\u001b[38;5;241m.\u001b[39mT\n\u001b[1;32m---> 36\u001b[0m probs \u001b[38;5;241m=\u001b[39m expit(logits)\n\u001b[0;32m     37\u001b[0m mean_probs \u001b[38;5;241m=\u001b[39m probs\u001b[38;5;241m.\u001b[39mmean(axis\u001b[38;5;241m=\u001b[39m\u001b[38;5;241m1\u001b[39m)\n\u001b[0;32m     38\u001b[0m \u001b[38;5;28;01mreturn\u001b[39;00m mean_probs, (mean_probs \u001b[38;5;241m>\u001b[39m \u001b[38;5;241m0.5\u001b[39m)\u001b[38;5;241m.\u001b[39mastype(\u001b[38;5;28mint\u001b[39m)\n",
      "\u001b[1;31mNameError\u001b[0m: name 'expit' is not defined"
     ]
    }
   ],
   "source": [
    "\n",
    "# Function to run PyMC model with different priors\n",
    "def run_model_with_prior(sigma_prior):\n",
    "    with pm.Model() as model:\n",
    "        w = pm.Normal(\"w\", mu=0, sigma=sigma_prior, shape=Xtrain_scaled.shape[1])\n",
    "        logits = pm.math.dot(Xtrain_scaled, w)\n",
    "        y_obs = pm.Bernoulli(\"y_obs\", logit_p=logits, observed=ytrain)\n",
    "        trace = pm.sample(1000, tune=1000, return_inferencedata=True, target_accept=0.9)\n",
    "    return trace\n",
    " \n",
    "# Try different priors\n",
    "priors = [1, 5, 10]\n",
    "traces = {}\n",
    "for sigma in priors:\n",
    "    print(f\"\\nSampling with prior: N(0, {sigma}²)\")\n",
    "    traces[sigma] = run_model_with_prior(sigma)\n",
    " \n",
    "# Posterior summaries\n",
    "for sigma in priors:\n",
    "    print(f\"\\nPosterior summary for prior N(0, {sigma}²):\")\n",
    "    display(az.summary(traces[sigma], var_names=[\"w\"], hdi_prob=0.95))\n",
    " \n",
    "# Visualize posterior weight distributions\n",
    "az.plot_forest([traces[s] for s in priors],\n",
    "               model_names=[f\"N(0, {s}²)\" for s in priors],\n",
    "               var_names=[\"w\"], combined=True)\n",
    "plt.title(\"Posterior Distribution Comparison for Different Priors\")\n",
    "plt.show()\n",
    " \n",
    "# Prediction function\n",
    "def predict(Xtest, trace):\n",
    "    w_samples = trace.posterior[\"w\"].stack(sample=(\"chain\", \"draw\")).values.T\n",
    "    logits = Xtest @ w_samples.T\n",
    "    probs = expit(logits)\n",
    "    mean_probs = probs.mean(axis=1)\n",
    "    return mean_probs, (mean_probs > 0.5).astype(int)\n",
    " \n",
    "# Evaluate predictive accuracy for each prior\n",
    "for sigma in priors:\n",
    "    probs, preds = predict(Xtest_scaled, traces[sigma])\n",
    "    acc = accuracy_score(ytest, preds)\n",
    "    print(f\"Accuracy with prior N(0, {sigma}²): {acc:.4f}\")"
   ]
  },
  {
   "cell_type": "code",
   "execution_count": 10,
   "id": "b356d081",
   "metadata": {},
   "outputs": [
    {
     "data": {
      "image/png": "[encoded data removed]",
      "text/plain": [
       "<Figure size 600x780 with 1 Axes>"
      ]
     },
     "metadata": {},
     "output_type": "display_data"
    }
   ],
   "source": [
    "from scipy.special import expit\n",
    "az.plot_forest([traces[s] for s in priors],\n",
    "               model_names=[f\"N(0, {s}²)\" for s in priors],\n",
    "               var_names=[\"w\"], combined=True)\n",
    "plt.title(\"Posterior Distribution Comparison for Different Priors\")\n",
    "plt.show()"
   ]
  },
  {
   "cell_type": "code",
   "execution_count": 11,
   "id": "84a506a9",
   "metadata": {},
   "outputs": [],
   "source": [
    "def predict(Xtest, trace):\n",
    "    w_samples = trace.posterior[\"w\"].stack(sample=(\"chain\", \"draw\")).values.T\n",
    "    logits = Xtest @ w_samples.T\n",
    "    probs = expit(logits)\n",
    "    mean_probs = probs.mean(axis=1)\n",
    "    return mean_probs, (mean_probs > 0.5).astype(int)"
   ]
  },
  {
   "cell_type": "code",
   "execution_count": 12,
   "id": "ae1d6c9b",
   "metadata": {},
   "outputs": [
    {
     "name": "stdout",
     "output_type": "stream",
     "text": [
      "Accuracy with prior N(0, 1²): 0.6486\n",
      "Accuracy with prior N(0, 5²): 0.6479\n",
      "Accuracy with prior N(0, 10²): 0.6486\n"
     ]
    }
   ],
   "source": [
    "for sigma in priors:\n",
    "    probs, preds = predict(Xtest_scaled, traces[sigma])\n",
    "    acc = accuracy_score(ytest, preds)\n",
    "    print(f\"Accuracy with prior N(0, {sigma}²): {acc:.4f}\")"
   ]
  },
  {
   "cell_type": "code",
   "execution_count": null,
   "id": "51af0b80",
   "metadata": {},
   "outputs": [],
   "source": []
  }
 ],
 "metadata": {
  "kernelspec": {
   "display_name": "Python 3 (ipykernel)",
   "language": "python",
   "name": "python3"
  },
  "language_info": {
   "codemirror_mode": {
    "name": "ipython",
    "version": 3
   },
   "file_extension": ".py",
   "mimetype": "text/x-python",
   "name": "python",
   "nbconvert_exporter": "python",
   "pygments_lexer": "ipython3",
   "version": "3.11.4"
  }
 },
 "nbformat": 4,
 "nbformat_minor": 5
}
