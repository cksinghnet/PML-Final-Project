{
 "cells": [
  {
   "cell_type": "code",
   "execution_count": 1,
   "id": "c30c8c30",
   "metadata": {},
   "outputs": [
    {
     "name": "stderr",
     "output_type": "stream",
     "text": [
      "WARNING (pytensor.configdefaults): g++ not available, if using conda: `conda install m2w64-toolchain`\n",
      "WARNING (pytensor.configdefaults): g++ not detected!  PyTensor will be unable to compile C-implementations and will default to Python. Performance may be severely degraded. To remove this warning, set PyTensor flags cxx to an empty string.\n",
      "WARNING (pytensor.tensor.blas): Using NumPy C-API based implementation for BLAS functions.\n"
     ]
    }
   ],
   "source": [
    "import pymc as pm\n",
    "import numpy as np\n",
    "import arviz as az\n",
    "import pandas as pd"
   ]
  },
  {
   "cell_type": "code",
   "execution_count": 2,
   "id": "365d2ee3",
   "metadata": {},
   "outputs": [],
   "source": [
    "data = pd.read_csv(\"CleanDataset.csv\")"
   ]
  },
  {
   "cell_type": "code",
   "execution_count": null,
   "id": "7129e85b",
   "metadata": {},
   "outputs": [],
   "source": [
    "features = data[['Age', 'MonthlyIncome']].values\n",
    "features = (features - np.mean(features, axis=0)) / np.std(features, axis=0)"
   ]
  },
  {
   "cell_type": "code",
   "execution_count": 5,
   "id": "6a334a74",
   "metadata": {},
   "outputs": [],
   "source": [
    "K = 3  # Number of clusters\n",
    "D = features.shape[1]  # Number of features"
   ]
  },
  {
   "cell_type": "code",
   "execution_count": 6,
   "id": "509f0db3",
   "metadata": {},
   "outputs": [
    {
     "ename": "ValueError",
     "evalue": "Alloc static input type and target shape are incompatible: Vector(float64, shape=(5180,)) vs (3, 2)",
     "output_type": "error",
     "traceback": [
      "\u001b[1;31m---------------------------------------------------------------------------\u001b[0m",
      "\u001b[1;31mValueError\u001b[0m                                Traceback (most recent call last)",
      "Cell \u001b[1;32mIn[6], line 13\u001b[0m\n\u001b[0;32m     10\u001b[0m sigma \u001b[38;5;241m=\u001b[39m pm\u001b[38;5;241m.\u001b[39mHalfCauchy(\u001b[38;5;124m'\u001b[39m\u001b[38;5;124msigma\u001b[39m\u001b[38;5;124m'\u001b[39m, beta\u001b[38;5;241m=\u001b[39m\u001b[38;5;241m1\u001b[39m, shape\u001b[38;5;241m=\u001b[39m(K, D))\n\u001b[0;32m     12\u001b[0m \u001b[38;5;66;03m# Observations model, mixture of Gaussians\u001b[39;00m\n\u001b[1;32m---> 13\u001b[0m y_obs \u001b[38;5;241m=\u001b[39m \u001b[43mpm\u001b[49m\u001b[38;5;241;43m.\u001b[39;49m\u001b[43mNormalMixture\u001b[49m\u001b[43m(\u001b[49m\u001b[38;5;124;43m'\u001b[39;49m\u001b[38;5;124;43my_obs\u001b[39;49m\u001b[38;5;124;43m'\u001b[39;49m\u001b[43m,\u001b[49m\u001b[43m \u001b[49m\u001b[43mw\u001b[49m\u001b[38;5;241;43m=\u001b[39;49m\u001b[43mw\u001b[49m\u001b[43m,\u001b[49m\u001b[43m \u001b[49m\u001b[43mmu\u001b[49m\u001b[38;5;241;43m=\u001b[39;49m\u001b[43mmu\u001b[49m\u001b[43m,\u001b[49m\u001b[43m \u001b[49m\u001b[43msigma\u001b[49m\u001b[38;5;241;43m=\u001b[39;49m\u001b[43msigma\u001b[49m\u001b[43m,\u001b[49m\u001b[43m \u001b[49m\u001b[43mobserved\u001b[49m\u001b[38;5;241;43m=\u001b[39;49m\u001b[43mfeatures\u001b[49m\u001b[43m)\u001b[49m\n\u001b[0;32m     15\u001b[0m \u001b[38;5;66;03m# Draw posterior samples using variational inference for faster execution\u001b[39;00m\n\u001b[0;32m     16\u001b[0m trace \u001b[38;5;241m=\u001b[39m pm\u001b[38;5;241m.\u001b[39mfit(\u001b[38;5;241m10000\u001b[39m, method\u001b[38;5;241m=\u001b[39m\u001b[38;5;124m'\u001b[39m\u001b[38;5;124madvi\u001b[39m\u001b[38;5;124m'\u001b[39m)\u001b[38;5;241m.\u001b[39msample(\u001b[38;5;241m500\u001b[39m)\n",
      "File \u001b[1;32mc:\\Users\\Rishabh_Mehrotra\\AppData\\Local\\Programs\\Python\\Python39\\lib\\site-packages\\pymc\\distributions\\mixture.py:556\u001b[0m, in \u001b[0;36mNormalMixture.__new__\u001b[1;34m(cls, name, w, mu, sigma, tau, **kwargs)\u001b[0m\n\u001b[0;32m    553\u001b[0m \u001b[38;5;28;01mdef\u001b[39;00m\u001b[38;5;250m \u001b[39m\u001b[38;5;21m__new__\u001b[39m(\u001b[38;5;28mcls\u001b[39m, name, w, mu, sigma\u001b[38;5;241m=\u001b[39m\u001b[38;5;28;01mNone\u001b[39;00m, tau\u001b[38;5;241m=\u001b[39m\u001b[38;5;28;01mNone\u001b[39;00m, \u001b[38;5;241m*\u001b[39m\u001b[38;5;241m*\u001b[39mkwargs):\n\u001b[0;32m    554\u001b[0m     _, sigma \u001b[38;5;241m=\u001b[39m get_tau_sigma(tau\u001b[38;5;241m=\u001b[39mtau, sigma\u001b[38;5;241m=\u001b[39msigma)\n\u001b[1;32m--> 556\u001b[0m     \u001b[38;5;28;01mreturn\u001b[39;00m Mixture(name, w, Normal\u001b[38;5;241m.\u001b[39mdist(mu, sigma\u001b[38;5;241m=\u001b[39msigma), \u001b[38;5;241m*\u001b[39m\u001b[38;5;241m*\u001b[39mkwargs)\n",
      "File \u001b[1;32mc:\\Users\\Rishabh_Mehrotra\\AppData\\Local\\Programs\\Python\\Python39\\lib\\site-packages\\pymc\\distributions\\distribution.py:411\u001b[0m, in \u001b[0;36mDistribution.__new__\u001b[1;34m(cls, name, rng, dims, initval, observed, total_size, transform, *args, **kwargs)\u001b[0m\n\u001b[0;32m    408\u001b[0m     \u001b[38;5;28;01melif\u001b[39;00m observed \u001b[38;5;129;01mis\u001b[39;00m \u001b[38;5;129;01mnot\u001b[39;00m \u001b[38;5;28;01mNone\u001b[39;00m:\n\u001b[0;32m    409\u001b[0m         kwargs[\u001b[38;5;124m\"\u001b[39m\u001b[38;5;124mshape\u001b[39m\u001b[38;5;124m\"\u001b[39m] \u001b[38;5;241m=\u001b[39m \u001b[38;5;28mtuple\u001b[39m(observed\u001b[38;5;241m.\u001b[39mshape)\n\u001b[1;32m--> 411\u001b[0m rv_out \u001b[38;5;241m=\u001b[39m \u001b[38;5;28mcls\u001b[39m\u001b[38;5;241m.\u001b[39mdist(\u001b[38;5;241m*\u001b[39margs, \u001b[38;5;241m*\u001b[39m\u001b[38;5;241m*\u001b[39mkwargs)\n\u001b[0;32m    413\u001b[0m rv_out \u001b[38;5;241m=\u001b[39m model\u001b[38;5;241m.\u001b[39mregister_rv(\n\u001b[0;32m    414\u001b[0m     rv_out,\n\u001b[0;32m    415\u001b[0m     name,\n\u001b[1;32m   (...)\u001b[0m\n\u001b[0;32m    420\u001b[0m     initval\u001b[38;5;241m=\u001b[39minitval,\n\u001b[0;32m    421\u001b[0m )\n\u001b[0;32m    423\u001b[0m \u001b[38;5;66;03m# add in pretty-printing support\u001b[39;00m\n",
      "File \u001b[1;32mc:\\Users\\Rishabh_Mehrotra\\AppData\\Local\\Programs\\Python\\Python39\\lib\\site-packages\\pymc\\distributions\\mixture.py:221\u001b[0m, in \u001b[0;36mMixture.dist\u001b[1;34m(cls, w, comp_dists, **kwargs)\u001b[0m\n\u001b[0;32m    216\u001b[0m     \u001b[38;5;28;01mraise\u001b[39;00m \u001b[38;5;167;01mValueError\u001b[39;00m(\n\u001b[0;32m    217\u001b[0m         \u001b[38;5;124mf\u001b[39m\u001b[38;5;124m\"\u001b[39m\u001b[38;5;124mMixture components must all have the same support dimensionality, got \u001b[39m\u001b[38;5;132;01m{\u001b[39;00mcomponents_ndim_supp\u001b[38;5;132;01m}\u001b[39;00m\u001b[38;5;124m\"\u001b[39m\n\u001b[0;32m    218\u001b[0m     )\n\u001b[0;32m    220\u001b[0m w \u001b[38;5;241m=\u001b[39m pt\u001b[38;5;241m.\u001b[39mas_tensor_variable(w)\n\u001b[1;32m--> 221\u001b[0m \u001b[38;5;28;01mreturn\u001b[39;00m \u001b[38;5;28msuper\u001b[39m()\u001b[38;5;241m.\u001b[39mdist([w, \u001b[38;5;241m*\u001b[39mcomp_dists], \u001b[38;5;241m*\u001b[39m\u001b[38;5;241m*\u001b[39mkwargs)\n",
      "File \u001b[1;32mc:\\Users\\Rishabh_Mehrotra\\AppData\\Local\\Programs\\Python\\Python39\\lib\\site-packages\\pymc\\distributions\\distribution.py:488\u001b[0m, in \u001b[0;36mDistribution.dist\u001b[1;34m(cls, dist_params, shape, **kwargs)\u001b[0m\n\u001b[0;32m    486\u001b[0m ndim_supp \u001b[38;5;241m=\u001b[39m \u001b[38;5;28mgetattr\u001b[39m(\u001b[38;5;28mcls\u001b[39m\u001b[38;5;241m.\u001b[39mrv_op, \u001b[38;5;124m\"\u001b[39m\u001b[38;5;124mndim_supp\u001b[39m\u001b[38;5;124m\"\u001b[39m, \u001b[38;5;28;01mNone\u001b[39;00m)\n\u001b[0;32m    487\u001b[0m \u001b[38;5;28;01mif\u001b[39;00m ndim_supp \u001b[38;5;129;01mis\u001b[39;00m \u001b[38;5;28;01mNone\u001b[39;00m:\n\u001b[1;32m--> 488\u001b[0m     ndim_supp \u001b[38;5;241m=\u001b[39m \u001b[38;5;28mcls\u001b[39m\u001b[38;5;241m.\u001b[39mrv_op(\u001b[38;5;241m*\u001b[39mdist_params, \u001b[38;5;241m*\u001b[39m\u001b[38;5;241m*\u001b[39mkwargs)\u001b[38;5;241m.\u001b[39mowner\u001b[38;5;241m.\u001b[39mop\u001b[38;5;241m.\u001b[39mndim_supp\n\u001b[0;32m    489\u001b[0m create_size \u001b[38;5;241m=\u001b[39m find_size(shape\u001b[38;5;241m=\u001b[39mshape, size\u001b[38;5;241m=\u001b[39msize, ndim_supp\u001b[38;5;241m=\u001b[39mndim_supp)\n\u001b[0;32m    490\u001b[0m rv_out \u001b[38;5;241m=\u001b[39m \u001b[38;5;28mcls\u001b[39m\u001b[38;5;241m.\u001b[39mrv_op(\u001b[38;5;241m*\u001b[39mdist_params, size\u001b[38;5;241m=\u001b[39mcreate_size, \u001b[38;5;241m*\u001b[39m\u001b[38;5;241m*\u001b[39mkwargs)\n",
      "File \u001b[1;32mc:\\Users\\Rishabh_Mehrotra\\AppData\\Local\\Programs\\Python\\Python39\\lib\\site-packages\\pymc\\distributions\\mixture.py:286\u001b[0m, in \u001b[0;36mMixture.rv_op\u001b[1;34m(cls, weights, size, *components)\u001b[0m\n\u001b[0;32m    284\u001b[0m \u001b[38;5;66;03m# Broadcast weights to (*batched dimensions, stack dimension), ignoring support dimensions\u001b[39;00m\n\u001b[0;32m    285\u001b[0m weights_broadcast_shape_ \u001b[38;5;241m=\u001b[39m stacked_components_\u001b[38;5;241m.\u001b[39mshape[: ndim_batch \u001b[38;5;241m+\u001b[39m \u001b[38;5;241m1\u001b[39m]\n\u001b[1;32m--> 286\u001b[0m weights_broadcasted_ \u001b[38;5;241m=\u001b[39m \u001b[43mpt\u001b[49m\u001b[38;5;241;43m.\u001b[39;49m\u001b[43mbroadcast_to\u001b[49m\u001b[43m(\u001b[49m\u001b[43mweights_\u001b[49m\u001b[43m,\u001b[49m\u001b[43m \u001b[49m\u001b[43mweights_broadcast_shape_\u001b[49m\u001b[43m)\u001b[49m\n\u001b[0;32m    288\u001b[0m \u001b[38;5;66;03m# Draw mixture indexes and append (stack + ndim_supp) broadcastable dimensions to the right\u001b[39;00m\n\u001b[0;32m    289\u001b[0m mix_indexes_ \u001b[38;5;241m=\u001b[39m pt\u001b[38;5;241m.\u001b[39mrandom\u001b[38;5;241m.\u001b[39mcategorical(weights_broadcasted_, rng\u001b[38;5;241m=\u001b[39mmix_indexes_rng_)\n",
      "File \u001b[1;32mc:\\Users\\Rishabh_Mehrotra\\AppData\\Local\\Programs\\Python\\Python39\\lib\\site-packages\\pytensor\\tensor\\extra_ops.py:1620\u001b[0m, in \u001b[0;36mbroadcast_to\u001b[1;34m(x, shape)\u001b[0m\n\u001b[0;32m   1600\u001b[0m \u001b[38;5;28;01mdef\u001b[39;00m\u001b[38;5;250m \u001b[39m\u001b[38;5;21mbroadcast_to\u001b[39m(\n\u001b[0;32m   1601\u001b[0m     x: TensorVariable, shape: Union[TensorVariable, \u001b[38;5;28mtuple\u001b[39m[Variable, \u001b[38;5;241m.\u001b[39m\u001b[38;5;241m.\u001b[39m\u001b[38;5;241m.\u001b[39m]]\n\u001b[0;32m   1602\u001b[0m ) \u001b[38;5;241m-\u001b[39m\u001b[38;5;241m>\u001b[39m TensorVariable:\n\u001b[0;32m   1603\u001b[0m \u001b[38;5;250m    \u001b[39m\u001b[38;5;124;03m\"\"\"Broadcast an array to a new shape.\u001b[39;00m\n\u001b[0;32m   1604\u001b[0m \n\u001b[0;32m   1605\u001b[0m \u001b[38;5;124;03m    Parameters\u001b[39;00m\n\u001b[1;32m   (...)\u001b[0m\n\u001b[0;32m   1618\u001b[0m \n\u001b[0;32m   1619\u001b[0m \u001b[38;5;124;03m    \"\"\"\u001b[39;00m\n\u001b[1;32m-> 1620\u001b[0m     \u001b[38;5;28;01mreturn\u001b[39;00m \u001b[43malloc\u001b[49m\u001b[43m(\u001b[49m\u001b[43mx\u001b[49m\u001b[43m,\u001b[49m\u001b[43m \u001b[49m\u001b[38;5;241;43m*\u001b[39;49m\u001b[43mshape\u001b[49m\u001b[43m)\u001b[49m\n",
      "File \u001b[1;32mc:\\Users\\Rishabh_Mehrotra\\AppData\\Local\\Programs\\Python\\Python39\\lib\\site-packages\\pytensor\\graph\\op.py:295\u001b[0m, in \u001b[0;36mOp.__call__\u001b[1;34m(self, *inputs, **kwargs)\u001b[0m\n\u001b[0;32m    253\u001b[0m \u001b[38;5;250m\u001b[39m\u001b[38;5;124mr\u001b[39m\u001b[38;5;124;03m\"\"\"Construct an `Apply` node using :meth:`Op.make_node` and return its outputs.\u001b[39;00m\n\u001b[0;32m    254\u001b[0m \n\u001b[0;32m    255\u001b[0m \u001b[38;5;124;03mThis method is just a wrapper around :meth:`Op.make_node`.\u001b[39;00m\n\u001b[1;32m   (...)\u001b[0m\n\u001b[0;32m    292\u001b[0m \n\u001b[0;32m    293\u001b[0m \u001b[38;5;124;03m\"\"\"\u001b[39;00m\n\u001b[0;32m    294\u001b[0m return_list \u001b[38;5;241m=\u001b[39m kwargs\u001b[38;5;241m.\u001b[39mpop(\u001b[38;5;124m\"\u001b[39m\u001b[38;5;124mreturn_list\u001b[39m\u001b[38;5;124m\"\u001b[39m, \u001b[38;5;28;01mFalse\u001b[39;00m)\n\u001b[1;32m--> 295\u001b[0m node \u001b[38;5;241m=\u001b[39m \u001b[38;5;28mself\u001b[39m\u001b[38;5;241m.\u001b[39mmake_node(\u001b[38;5;241m*\u001b[39minputs, \u001b[38;5;241m*\u001b[39m\u001b[38;5;241m*\u001b[39mkwargs)\n\u001b[0;32m    297\u001b[0m \u001b[38;5;28;01mif\u001b[39;00m config\u001b[38;5;241m.\u001b[39mcompute_test_value \u001b[38;5;241m!=\u001b[39m \u001b[38;5;124m\"\u001b[39m\u001b[38;5;124moff\u001b[39m\u001b[38;5;124m\"\u001b[39m:\n\u001b[0;32m    298\u001b[0m     compute_test_value(node)\n",
      "File \u001b[1;32mc:\\Users\\Rishabh_Mehrotra\\AppData\\Local\\Programs\\Python\\Python39\\lib\\site-packages\\pytensor\\tensor\\basic.py:1510\u001b[0m, in \u001b[0;36mAlloc.make_node\u001b[1;34m(self, value, *shape)\u001b[0m\n\u001b[0;32m   1507\u001b[0m     \u001b[38;5;28;01melif\u001b[39;00m (v_st \u001b[38;5;129;01mis\u001b[39;00m \u001b[38;5;129;01mnot\u001b[39;00m \u001b[38;5;28;01mNone\u001b[39;00m) \u001b[38;5;129;01mand\u001b[39;00m (sh_st \u001b[38;5;129;01mis\u001b[39;00m \u001b[38;5;129;01mnot\u001b[39;00m \u001b[38;5;28;01mNone\u001b[39;00m):\n\u001b[0;32m   1508\u001b[0m         \u001b[38;5;66;03m# They must match or if not, the value must be broadcastable\u001b[39;00m\n\u001b[0;32m   1509\u001b[0m         \u001b[38;5;28;01mif\u001b[39;00m v_st \u001b[38;5;241m!=\u001b[39m sh_st \u001b[38;5;129;01mand\u001b[39;00m \u001b[38;5;129;01mnot\u001b[39;00m v_bc:\n\u001b[1;32m-> 1510\u001b[0m             \u001b[38;5;28;01mraise\u001b[39;00m \u001b[38;5;167;01mValueError\u001b[39;00m(\n\u001b[0;32m   1511\u001b[0m                 \u001b[38;5;124mf\u001b[39m\u001b[38;5;124m\"\u001b[39m\u001b[38;5;124mAlloc static input type and target shape are incompatible: \u001b[39m\u001b[38;5;132;01m{\u001b[39;00mvalue\u001b[38;5;241m.\u001b[39mtype\u001b[38;5;132;01m}\u001b[39;00m\u001b[38;5;124m vs \u001b[39m\u001b[38;5;132;01m{\u001b[39;00mstatic_shape\u001b[38;5;132;01m}\u001b[39;00m\u001b[38;5;124m\"\u001b[39m\n\u001b[0;32m   1512\u001b[0m             )\n\u001b[0;32m   1514\u001b[0m otype \u001b[38;5;241m=\u001b[39m TensorType(dtype\u001b[38;5;241m=\u001b[39mvalue\u001b[38;5;241m.\u001b[39mdtype, shape\u001b[38;5;241m=\u001b[39mcombined_static_shape)\n\u001b[0;32m   1515\u001b[0m \u001b[38;5;28;01mreturn\u001b[39;00m Apply(\u001b[38;5;28mself\u001b[39m, [value, \u001b[38;5;241m*\u001b[39mshape], [otype()])\n",
      "\u001b[1;31mValueError\u001b[0m: Alloc static input type and target shape are incompatible: Vector(float64, shape=(5180,)) vs (3, 2)"
     ]
    }
   ],
   "source": [
    "with pm.Model() as model:\n",
    "    # Hyperparameters for the DP\n",
    "    alpha = pm.Gamma('alpha', 1., 1.)\n",
    "    # Stick-breaking process to define weights\n",
    "    beta = pm.Beta('beta', 1., alpha, shape=len(features))\n",
    "    w = pm.Deterministic('w', pm.math.concatenate([[beta[0]], beta[1:] * (1 - beta[:-1]).cumprod()]))\n",
    "    \n",
    "    # Priors for cluster centers and spreads\n",
    "    mu = pm.Normal('mu', mu=0, sigma=1, shape=(K, D))\n",
    "    sigma = pm.HalfCauchy('sigma', beta=1, shape=(K, D))\n",
    "    \n",
    "    # Observations model, mixture of Gaussians\n",
    "    y_obs = pm.NormalMixture('y_obs', w=w, mu=mu, sigma=sigma, observed=features)\n",
    "    \n",
    "    # Draw posterior samples using variational inference for faster execution\n",
    "    trace = pm.fit(10000, method='advi').sample(500)\n"
   ]
  },
  {
   "cell_type": "code",
   "execution_count": null,
   "id": "3b5e2ca2",
   "metadata": {},
   "outputs": [],
   "source": [
    "# Visualize the results\n",
    "az.plot_trace(trace)\n",
    "az.summary(trace)"
   ]
  }
 ],
 "metadata": {
  "kernelspec": {
   "display_name": "Python 3",
   "language": "python",
   "name": "python3"
  },
  "language_info": {
   "codemirror_mode": {
    "name": "ipython",
    "version": 3
   },
   "file_extension": ".py",
   "mimetype": "text/x-python",
   "name": "python",
   "nbconvert_exporter": "python",
   "pygments_lexer": "ipython3",
   "version": "3.9.0"
  }
 },
 "nbformat": 4,
 "nbformat_minor": 5
}
