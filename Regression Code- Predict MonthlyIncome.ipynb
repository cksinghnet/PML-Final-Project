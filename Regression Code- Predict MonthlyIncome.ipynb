{
 "cells": [
  {
   "cell_type": "code",
   "execution_count": 49,
   "id": "6bda7d38",
   "metadata": {},
   "outputs": [],
   "source": [
    "import pandas as pd\n",
    "import numpy as np\n",
    "import math\n",
    "import seaborn as sns\n",
    "from numpy.linalg import inv\n",
    "from sklearn.model_selection import train_test_split\n",
    "from scipy.stats import multivariate_normal\n",
    "from sklearn.metrics import f1_score, confusion_matrix\n",
    "from sklearn.utils.multiclass import unique_labels\n",
    "import matplotlib.pyplot as plt\n",
    "%matplotlib inline\n",
    "from sklearn.preprocessing import StandardScaler\n",
    "\n",
    "import warnings\n",
    "warnings.filterwarnings(\"ignore\")"
   ]
  },
  {
   "cell_type": "code",
   "execution_count": 50,
   "id": "69f9bd8b",
   "metadata": {},
   "outputs": [
    {
     "data": {
      "text/plain": [
       "Index(['Unnamed: 0', 'EmployeeID', 'Attrition', 'Age', 'HomeToWork',\n",
       "       'HourlnWeek', 'Involvement', 'WorkLifeBalance', 'JobSatisfaction',\n",
       "       'ESOPs', 'NumCompaniesWorked', 'OverTime', 'SalaryHikelastYear',\n",
       "       'WorkExperience', 'LastPromotion', 'CurrentProfile', 'MonthlyIncome',\n",
       "       'TravelProfile_Rarely', 'TravelProfile_Yes', 'Department_Analytics',\n",
       "       'Department_Marketing', 'Department_Sales', 'EducationField_CA',\n",
       "       'EducationField_Engineer', 'EducationField_MBA',\n",
       "       'EducationField_Marketing Diploma', 'EducationField_Statistics',\n",
       "       'Gender_F', 'Gender_M', 'Designation_AVP', 'Designation_Executive',\n",
       "       'Designation_Manager', 'Designation_Senior Manager', 'Designation_VP',\n",
       "       'MaritalStatus_Married', 'MaritalStatus_Single'],\n",
       "      dtype='object')"
      ]
     },
     "execution_count": 50,
     "metadata": {},
     "output_type": "execute_result"
    }
   ],
   "source": [
    "df = pd.read_csv(r\"C:\\Users\\cks12\\Downloads\\PML Project\\dataset\\raw\\CleanDataset.csv\")\n",
    "df.columns"
   ]
  },
  {
   "cell_type": "code",
   "execution_count": 51,
   "id": "1241e142",
   "metadata": {},
   "outputs": [
    {
     "data": {
      "text/html": [
       "<div>\n",
       "<style scoped>\n",
       "    .dataframe tbody tr th:only-of-type {\n",
       "        vertical-align: middle;\n",
       "    }\n",
       "\n",
       "    .dataframe tbody tr th {\n",
       "        vertical-align: top;\n",
       "    }\n",
       "\n",
       "    .dataframe thead th {\n",
       "        text-align: right;\n",
       "    }\n",
       "</style>\n",
       "<table border=\"1\" class=\"dataframe\">\n",
       "  <thead>\n",
       "    <tr style=\"text-align: right;\">\n",
       "      <th></th>\n",
       "      <th>Attrition</th>\n",
       "      <th>Age</th>\n",
       "      <th>HomeToWork</th>\n",
       "      <th>HourlnWeek</th>\n",
       "      <th>Involvement</th>\n",
       "      <th>WorkLifeBalance</th>\n",
       "      <th>JobSatisfaction</th>\n",
       "      <th>ESOPs</th>\n",
       "      <th>NumCompaniesWorked</th>\n",
       "      <th>OverTime</th>\n",
       "      <th>...</th>\n",
       "      <th>EducationField_Statistics</th>\n",
       "      <th>Gender_F</th>\n",
       "      <th>Gender_M</th>\n",
       "      <th>Designation_AVP</th>\n",
       "      <th>Designation_Executive</th>\n",
       "      <th>Designation_Manager</th>\n",
       "      <th>Designation_Senior Manager</th>\n",
       "      <th>Designation_VP</th>\n",
       "      <th>MaritalStatus_Married</th>\n",
       "      <th>MaritalStatus_Single</th>\n",
       "    </tr>\n",
       "  </thead>\n",
       "  <tbody>\n",
       "    <tr>\n",
       "      <th>0</th>\n",
       "      <td>0.0</td>\n",
       "      <td>35.0</td>\n",
       "      <td>5.0</td>\n",
       "      <td>69.0</td>\n",
       "      <td>1</td>\n",
       "      <td>1</td>\n",
       "      <td>1</td>\n",
       "      <td>1</td>\n",
       "      <td>1</td>\n",
       "      <td>1</td>\n",
       "      <td>...</td>\n",
       "      <td>0</td>\n",
       "      <td>0</td>\n",
       "      <td>1</td>\n",
       "      <td>0</td>\n",
       "      <td>1</td>\n",
       "      <td>0</td>\n",
       "      <td>0</td>\n",
       "      <td>0</td>\n",
       "      <td>1</td>\n",
       "      <td>0</td>\n",
       "    </tr>\n",
       "    <tr>\n",
       "      <th>1</th>\n",
       "      <td>1.0</td>\n",
       "      <td>32.0</td>\n",
       "      <td>5.0</td>\n",
       "      <td>62.0</td>\n",
       "      <td>4</td>\n",
       "      <td>3</td>\n",
       "      <td>2</td>\n",
       "      <td>0</td>\n",
       "      <td>8</td>\n",
       "      <td>0</td>\n",
       "      <td>...</td>\n",
       "      <td>1</td>\n",
       "      <td>1</td>\n",
       "      <td>0</td>\n",
       "      <td>0</td>\n",
       "      <td>1</td>\n",
       "      <td>0</td>\n",
       "      <td>0</td>\n",
       "      <td>0</td>\n",
       "      <td>0</td>\n",
       "      <td>1</td>\n",
       "    </tr>\n",
       "    <tr>\n",
       "      <th>2</th>\n",
       "      <td>0.0</td>\n",
       "      <td>31.0</td>\n",
       "      <td>5.0</td>\n",
       "      <td>45.0</td>\n",
       "      <td>5</td>\n",
       "      <td>3</td>\n",
       "      <td>2</td>\n",
       "      <td>1</td>\n",
       "      <td>3</td>\n",
       "      <td>0</td>\n",
       "      <td>...</td>\n",
       "      <td>1</td>\n",
       "      <td>1</td>\n",
       "      <td>0</td>\n",
       "      <td>0</td>\n",
       "      <td>0</td>\n",
       "      <td>1</td>\n",
       "      <td>0</td>\n",
       "      <td>0</td>\n",
       "      <td>0</td>\n",
       "      <td>1</td>\n",
       "    </tr>\n",
       "    <tr>\n",
       "      <th>3</th>\n",
       "      <td>0.0</td>\n",
       "      <td>34.0</td>\n",
       "      <td>10.0</td>\n",
       "      <td>32.0</td>\n",
       "      <td>3</td>\n",
       "      <td>2</td>\n",
       "      <td>4</td>\n",
       "      <td>1</td>\n",
       "      <td>1</td>\n",
       "      <td>0</td>\n",
       "      <td>...</td>\n",
       "      <td>1</td>\n",
       "      <td>1</td>\n",
       "      <td>0</td>\n",
       "      <td>0</td>\n",
       "      <td>0</td>\n",
       "      <td>1</td>\n",
       "      <td>0</td>\n",
       "      <td>0</td>\n",
       "      <td>0</td>\n",
       "      <td>0</td>\n",
       "    </tr>\n",
       "    <tr>\n",
       "      <th>4</th>\n",
       "      <td>0.0</td>\n",
       "      <td>37.0</td>\n",
       "      <td>27.0</td>\n",
       "      <td>49.0</td>\n",
       "      <td>3</td>\n",
       "      <td>4</td>\n",
       "      <td>4</td>\n",
       "      <td>1</td>\n",
       "      <td>8</td>\n",
       "      <td>0</td>\n",
       "      <td>...</td>\n",
       "      <td>1</td>\n",
       "      <td>1</td>\n",
       "      <td>0</td>\n",
       "      <td>0</td>\n",
       "      <td>0</td>\n",
       "      <td>1</td>\n",
       "      <td>0</td>\n",
       "      <td>0</td>\n",
       "      <td>0</td>\n",
       "      <td>0</td>\n",
       "    </tr>\n",
       "    <tr>\n",
       "      <th>...</th>\n",
       "      <td>...</td>\n",
       "      <td>...</td>\n",
       "      <td>...</td>\n",
       "      <td>...</td>\n",
       "      <td>...</td>\n",
       "      <td>...</td>\n",
       "      <td>...</td>\n",
       "      <td>...</td>\n",
       "      <td>...</td>\n",
       "      <td>...</td>\n",
       "      <td>...</td>\n",
       "      <td>...</td>\n",
       "      <td>...</td>\n",
       "      <td>...</td>\n",
       "      <td>...</td>\n",
       "      <td>...</td>\n",
       "      <td>...</td>\n",
       "      <td>...</td>\n",
       "      <td>...</td>\n",
       "      <td>...</td>\n",
       "      <td>...</td>\n",
       "    </tr>\n",
       "    <tr>\n",
       "      <th>5175</th>\n",
       "      <td>0.0</td>\n",
       "      <td>36.0</td>\n",
       "      <td>13.0</td>\n",
       "      <td>53.0</td>\n",
       "      <td>3</td>\n",
       "      <td>3</td>\n",
       "      <td>3</td>\n",
       "      <td>0</td>\n",
       "      <td>4</td>\n",
       "      <td>1</td>\n",
       "      <td>...</td>\n",
       "      <td>0</td>\n",
       "      <td>1</td>\n",
       "      <td>0</td>\n",
       "      <td>0</td>\n",
       "      <td>0</td>\n",
       "      <td>1</td>\n",
       "      <td>0</td>\n",
       "      <td>0</td>\n",
       "      <td>0</td>\n",
       "      <td>1</td>\n",
       "    </tr>\n",
       "    <tr>\n",
       "      <th>5176</th>\n",
       "      <td>0.0</td>\n",
       "      <td>36.0</td>\n",
       "      <td>9.0</td>\n",
       "      <td>66.0</td>\n",
       "      <td>1</td>\n",
       "      <td>4</td>\n",
       "      <td>4</td>\n",
       "      <td>1</td>\n",
       "      <td>9</td>\n",
       "      <td>0</td>\n",
       "      <td>...</td>\n",
       "      <td>0</td>\n",
       "      <td>1</td>\n",
       "      <td>0</td>\n",
       "      <td>0</td>\n",
       "      <td>1</td>\n",
       "      <td>0</td>\n",
       "      <td>0</td>\n",
       "      <td>0</td>\n",
       "      <td>0</td>\n",
       "      <td>1</td>\n",
       "    </tr>\n",
       "    <tr>\n",
       "      <th>5177</th>\n",
       "      <td>0.0</td>\n",
       "      <td>29.0</td>\n",
       "      <td>9.0</td>\n",
       "      <td>62.0</td>\n",
       "      <td>4</td>\n",
       "      <td>2</td>\n",
       "      <td>1</td>\n",
       "      <td>1</td>\n",
       "      <td>6</td>\n",
       "      <td>0</td>\n",
       "      <td>...</td>\n",
       "      <td>0</td>\n",
       "      <td>1</td>\n",
       "      <td>0</td>\n",
       "      <td>0</td>\n",
       "      <td>1</td>\n",
       "      <td>0</td>\n",
       "      <td>0</td>\n",
       "      <td>0</td>\n",
       "      <td>1</td>\n",
       "      <td>0</td>\n",
       "    </tr>\n",
       "    <tr>\n",
       "      <th>5178</th>\n",
       "      <td>0.0</td>\n",
       "      <td>26.0</td>\n",
       "      <td>26.0</td>\n",
       "      <td>61.0</td>\n",
       "      <td>3</td>\n",
       "      <td>4</td>\n",
       "      <td>3</td>\n",
       "      <td>0</td>\n",
       "      <td>1</td>\n",
       "      <td>0</td>\n",
       "      <td>...</td>\n",
       "      <td>1</td>\n",
       "      <td>1</td>\n",
       "      <td>0</td>\n",
       "      <td>0</td>\n",
       "      <td>1</td>\n",
       "      <td>0</td>\n",
       "      <td>0</td>\n",
       "      <td>0</td>\n",
       "      <td>0</td>\n",
       "      <td>0</td>\n",
       "    </tr>\n",
       "    <tr>\n",
       "      <th>5179</th>\n",
       "      <td>1.0</td>\n",
       "      <td>36.0</td>\n",
       "      <td>13.0</td>\n",
       "      <td>74.0</td>\n",
       "      <td>4</td>\n",
       "      <td>3</td>\n",
       "      <td>5</td>\n",
       "      <td>1</td>\n",
       "      <td>1</td>\n",
       "      <td>0</td>\n",
       "      <td>...</td>\n",
       "      <td>1</td>\n",
       "      <td>0</td>\n",
       "      <td>1</td>\n",
       "      <td>0</td>\n",
       "      <td>1</td>\n",
       "      <td>0</td>\n",
       "      <td>0</td>\n",
       "      <td>0</td>\n",
       "      <td>0</td>\n",
       "      <td>0</td>\n",
       "    </tr>\n",
       "  </tbody>\n",
       "</table>\n",
       "<p>5180 rows × 33 columns</p>\n",
       "</div>"
      ],
      "text/plain": [
       "      Attrition   Age  HomeToWork  HourlnWeek  Involvement  WorkLifeBalance  \\\n",
       "0           0.0  35.0         5.0        69.0            1                1   \n",
       "1           1.0  32.0         5.0        62.0            4                3   \n",
       "2           0.0  31.0         5.0        45.0            5                3   \n",
       "3           0.0  34.0        10.0        32.0            3                2   \n",
       "4           0.0  37.0        27.0        49.0            3                4   \n",
       "...         ...   ...         ...         ...          ...              ...   \n",
       "5175        0.0  36.0        13.0        53.0            3                3   \n",
       "5176        0.0  36.0         9.0        66.0            1                4   \n",
       "5177        0.0  29.0         9.0        62.0            4                2   \n",
       "5178        0.0  26.0        26.0        61.0            3                4   \n",
       "5179        1.0  36.0        13.0        74.0            4                3   \n",
       "\n",
       "      JobSatisfaction  ESOPs  NumCompaniesWorked  OverTime  ...  \\\n",
       "0                   1      1                   1         1  ...   \n",
       "1                   2      0                   8         0  ...   \n",
       "2                   2      1                   3         0  ...   \n",
       "3                   4      1                   1         0  ...   \n",
       "4                   4      1                   8         0  ...   \n",
       "...               ...    ...                 ...       ...  ...   \n",
       "5175                3      0                   4         1  ...   \n",
       "5176                4      1                   9         0  ...   \n",
       "5177                1      1                   6         0  ...   \n",
       "5178                3      0                   1         0  ...   \n",
       "5179                5      1                   1         0  ...   \n",
       "\n",
       "      EducationField_Statistics  Gender_F  Gender_M  Designation_AVP  \\\n",
       "0                             0         0         1                0   \n",
       "1                             1         1         0                0   \n",
       "2                             1         1         0                0   \n",
       "3                             1         1         0                0   \n",
       "4                             1         1         0                0   \n",
       "...                         ...       ...       ...              ...   \n",
       "5175                          0         1         0                0   \n",
       "5176                          0         1         0                0   \n",
       "5177                          0         1         0                0   \n",
       "5178                          1         1         0                0   \n",
       "5179                          1         0         1                0   \n",
       "\n",
       "      Designation_Executive  Designation_Manager  Designation_Senior Manager  \\\n",
       "0                         1                    0                           0   \n",
       "1                         1                    0                           0   \n",
       "2                         0                    1                           0   \n",
       "3                         0                    1                           0   \n",
       "4                         0                    1                           0   \n",
       "...                     ...                  ...                         ...   \n",
       "5175                      0                    1                           0   \n",
       "5176                      1                    0                           0   \n",
       "5177                      1                    0                           0   \n",
       "5178                      1                    0                           0   \n",
       "5179                      1                    0                           0   \n",
       "\n",
       "      Designation_VP  MaritalStatus_Married  MaritalStatus_Single  \n",
       "0                  0                      1                     0  \n",
       "1                  0                      0                     1  \n",
       "2                  0                      0                     1  \n",
       "3                  0                      0                     0  \n",
       "4                  0                      0                     0  \n",
       "...              ...                    ...                   ...  \n",
       "5175               0                      0                     1  \n",
       "5176               0                      0                     1  \n",
       "5177               0                      1                     0  \n",
       "5178               0                      0                     0  \n",
       "5179               0                      0                     0  \n",
       "\n",
       "[5180 rows x 33 columns]"
      ]
     },
     "execution_count": 51,
     "metadata": {},
     "output_type": "execute_result"
    }
   ],
   "source": [
    "df.corr()\n",
    "X=df.drop(columns=['Unnamed: 0','EmployeeID','MonthlyIncome'],axis=1)\n",
    "X"
   ]
  },
  {
   "cell_type": "code",
   "execution_count": 52,
   "id": "88167679",
   "metadata": {},
   "outputs": [],
   "source": [
    "y=df['MonthlyIncome']"
   ]
  },
  {
   "cell_type": "code",
   "execution_count": 53,
   "id": "342fafb4",
   "metadata": {},
   "outputs": [
    {
     "data": {
      "text/plain": [
       "count     5180.000000\n",
       "mean     21693.095841\n",
       "std       4727.614089\n",
       "min       1000.000000\n",
       "25%      18377.000000\n",
       "50%      20231.000000\n",
       "75%      23346.000000\n",
       "max      95000.000000\n",
       "Name: MonthlyIncome, dtype: float64"
      ]
     },
     "execution_count": 53,
     "metadata": {},
     "output_type": "execute_result"
    }
   ],
   "source": [
    "y.describe()"
   ]
  },
  {
   "cell_type": "code",
   "execution_count": 57,
   "id": "ed0c3a9f",
   "metadata": {},
   "outputs": [],
   "source": [
    "Xtrain, Xtest, ytrain, ytest = train_test_split(X, y,test_size=0.2,random_state=43)"
   ]
  },
  {
   "cell_type": "code",
   "execution_count": 58,
   "id": "e97ef571",
   "metadata": {},
   "outputs": [],
   "source": [
    "scaler = StandardScaler()\n",
    "Xtrain_scaled = scaler.fit_transform(Xtrain)\n",
    "Xtest_scaled = scaler.transform(Xtest)"
   ]
  },
  {
   "cell_type": "code",
   "execution_count": 59,
   "id": "74c9f432",
   "metadata": {},
   "outputs": [
    {
     "data": {
      "text/plain": [
       "(1036, 33)"
      ]
     },
     "execution_count": 59,
     "metadata": {},
     "output_type": "execute_result"
    }
   ],
   "source": [
    "Xtest_scaled.shape"
   ]
  },
  {
   "cell_type": "code",
   "execution_count": 60,
   "id": "f09b22bd",
   "metadata": {},
   "outputs": [
    {
     "data": {
      "text/plain": [
       "(1036,)"
      ]
     },
     "execution_count": 60,
     "metadata": {},
     "output_type": "execute_result"
    }
   ],
   "source": [
    "ytest.shape"
   ]
  },
  {
   "cell_type": "code",
   "execution_count": 61,
   "id": "6a079a69",
   "metadata": {},
   "outputs": [
    {
     "data": {
      "text/plain": [
       "(1036, 33)"
      ]
     },
     "execution_count": 61,
     "metadata": {},
     "output_type": "execute_result"
    }
   ],
   "source": [
    "Xtest_scaled.shape"
   ]
  },
  {
   "cell_type": "code",
   "execution_count": 62,
   "id": "eee97c63",
   "metadata": {},
   "outputs": [
    {
     "data": {
      "text/plain": [
       "(4144, 34)"
      ]
     },
     "execution_count": 62,
     "metadata": {},
     "output_type": "execute_result"
    }
   ],
   "source": [
    "Xtrain_scaled_m = np.hstack((np.ones_like(Xtrain_scaled[:,:1]), Xtrain_scaled))\n",
    "Xtest_scaled_m = np.hstack((np.ones_like(Xtest_scaled[:,:1]), Xtest_scaled))\n",
    "Xtrain_scaled_m.shape"
   ]
  },
  {
   "cell_type": "code",
   "execution_count": 63,
   "id": "9a9918b7",
   "metadata": {},
   "outputs": [
    {
     "name": "stdout",
     "output_type": "stream",
     "text": [
      "[ 9.96432551e+00 -6.87663846e-03 -1.62104706e-03  2.02577870e-03\n",
      "  4.25809021e-03  3.18724110e-03  1.13945880e-03  9.98934182e-04\n",
      " -7.84754105e-04  8.78750048e-03  4.28043683e-03  1.23075047e-03\n",
      "  4.50430893e-03  4.43951071e-03  5.25544902e-03  3.86821795e-03\n",
      "  1.07598167e-03  2.80489811e-02  1.19177804e-02  2.71194927e-02\n",
      "  4.48168053e-03  2.33415422e-03  1.54941767e-03  5.26418810e-03\n",
      "  4.27094200e-03  3.87988562e-03  5.50149428e-03  1.15569701e-01\n",
      " -2.15650256e-03  5.60386424e-02  1.07143613e-01  1.23473751e-01\n",
      "  6.79577905e-04 -6.47363295e-04]\n"
     ]
    }
   ],
   "source": [
    "w = np.linalg.solve(np.dot(Xtrain_scaled_m.T, Xtrain_scaled_m), np.dot(Xtrain_scaled_m.T, np.log(ytrain)))\n",
    "print(w)"
   ]
  },
  {
   "cell_type": "code",
   "execution_count": 64,
   "id": "45709f9e",
   "metadata": {},
   "outputs": [
    {
     "data": {
      "text/plain": [
       "(34,)"
      ]
     },
     "execution_count": 64,
     "metadata": {},
     "output_type": "execute_result"
    }
   ],
   "source": [
    "w.shape"
   ]
  },
  {
   "cell_type": "code",
   "execution_count": 65,
   "id": "d7b552b8",
   "metadata": {},
   "outputs": [],
   "source": [
    "def predict(x, w):\n",
    "    X_p = np.hstack((np.ones_like(x[:,:1]), x))\n",
    "    return np.exp(np.dot(X_p ,w))"
   ]
  },
  {
   "cell_type": "code",
   "execution_count": 66,
   "id": "ae5b1302",
   "metadata": {},
   "outputs": [
    {
     "data": {
      "image/png": "[encoded data removed]",
      "text/plain": [
       "<Figure size 640x480 with 1 Axes>"
      ]
     },
     "metadata": {},
     "output_type": "display_data"
    }
   ],
   "source": [
    "def plot_fit(x_test, y_test, x, y):\n",
    "    plt.plot(x_test[:,:1], y_test, 'b:')\n",
    "    plt.plot(x[:,:1], y, 'g:')\n",
    "    plt.ylabel(\"y (Age)\")\n",
    "    plt.xlabel(\"x (Feature)\")\n",
    "    plt.show()\n",
    "\n",
    "\n",
    "plot_fit(Xtest_scaled, predict(Xtest_scaled, w), Xtest_scaled, ytest)"
   ]
  },
  {
   "cell_type": "code",
   "execution_count": 67,
   "id": "948b999e",
   "metadata": {},
   "outputs": [
    {
     "name": "stdout",
     "output_type": "stream",
     "text": [
      "2833.0930988688565\n"
     ]
    }
   ],
   "source": [
    "def compute_RSS(x, y, w):\n",
    "    return np.sqrt(np.mean((y - predict(x, w)) ** 2))\n",
    "    \n",
    "\n",
    "print(compute_RSS(Xtest_scaled, ytest,w))"
   ]
  },
  {
   "cell_type": "code",
   "execution_count": null,
   "id": "622b649b",
   "metadata": {},
   "outputs": [],
   "source": []
  },
  {
   "cell_type": "code",
   "execution_count": null,
   "id": "7cb3b8fc",
   "metadata": {},
   "outputs": [],
   "source": []
  }
 ],
 "metadata": {
  "kernelspec": {
   "display_name": "Python 3 (ipykernel)",
   "language": "python",
   "name": "python3"
  },
  "language_info": {
   "codemirror_mode": {
    "name": "ipython",
    "version": 3
   },
   "file_extension": ".py",
   "mimetype": "text/x-python",
   "name": "python",
   "nbconvert_exporter": "python",
   "pygments_lexer": "ipython3",
   "version": "3.11.4"
  }
 },
 "nbformat": 4,
 "nbformat_minor": 5
}
