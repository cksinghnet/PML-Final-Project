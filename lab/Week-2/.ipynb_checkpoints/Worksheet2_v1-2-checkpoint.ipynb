{
 "cells": [
  {
   "cell_type": "markdown",
   "id": "3e3dc558",
   "metadata": {
    "id": "3e3dc558"
   },
   "source": [
    "# CP 218 Worksheet2: Probability Theory"
   ]
  },
  {
   "cell_type": "markdown",
   "id": "a0354634",
   "metadata": {
    "id": "a0354634"
   },
   "source": [
    "Firstly we will import the relevant libraries (numpy, pandas, matplotlib, etc), ensuring our plots appear inline rather than in separate windows."
   ]
  },
  {
   "cell_type": "code",
   "execution_count": 1,
   "id": "07c511f4",
   "metadata": {
    "id": "07c511f4"
   },
   "outputs": [],
   "source": [
    "import numpy as np\n",
    "import pandas as pd\n",
    "import matplotlib.pyplot as plt\n",
    "import seaborn as sns\n",
    "import sys\n",
    "%matplotlib inline\n"
   ]
  },
  {
   "cell_type": "markdown",
   "id": "b9e0b4bd",
   "metadata": {
    "id": "b9e0b4bd"
   },
   "source": [
    "."
   ]
  },
  {
   "cell_type": "code",
   "execution_count": 2,
   "id": "4f37e2e2",
   "metadata": {
    "colab": {
     "base_uri": "https://localhost:8080/",
     "height": 35
    },
    "id": "4f37e2e2",
    "outputId": "cdb90bc3-15cf-477d-9d31-b7e6ddc652e8"
   },
   "outputs": [
    {
     "data": {
      "application/vnd.google.colaboratory.intrinsic+json": {
       "type": "string"
      },
      "text/plain": [
       "'/content'"
      ]
     },
     "execution_count": 2,
     "metadata": {},
     "output_type": "execute_result"
    }
   ],
   "source": [
    "import os\n",
    "cwd = os.getcwd()\n",
    "cwd"
   ]
  },
  {
   "cell_type": "markdown",
   "id": "b28eda52",
   "metadata": {
    "id": "b28eda52"
   },
   "source": [
    "## Probability Theory\n"
   ]
  },
  {
   "cell_type": "markdown",
   "id": "d4365373",
   "metadata": {
    "id": "d4365373"
   },
   "source": [
    "### Practice Questions\n",
    "\n",
    "1. A real estate data suggests that 57% of houses in a city have garden, 52% have garage, and 14% have both. What is the probability that a house in that city\n",
    "\n",
    "       a) a garage or a garden?  \n",
    "\n",
    "       b) neither a garage nor a garden?\n",
    "\n",
    "       c) a garage but no garden?  \n"
   ]
  },
  {
   "cell_type": "markdown",
   "id": "06aeb512",
   "metadata": {
    "id": "06aeb512"
   },
   "source": [
    "2.  The probabilities that an adult man has high blood pressure and/or high cholesterol are shown in the table.\n",
    "\n",
    "\n",
    "                         Cholesterol   \n",
    "\n",
    "                           High        OK\n",
    "                   High    0.11       0.16\n",
    "     Blood\n",
    "     Pressure\n",
    "                   OK      0.21       0.52\n",
    "\n",
    "\n",
    "   What's the probability that\n",
    "\n",
    "     a) a man has high blood pressure?\n",
    "\n",
    "     b) a man with high blood pressure has high cholesterol?  \n",
    "\n",
    "     c) a man has high blood pressure if it's known that he has high cholesterol?\n",
    "     "
   ]
  },
  {
   "cell_type": "markdown",
   "id": "6f9c5be6",
   "metadata": {
    "id": "6f9c5be6"
   },
   "source": [
    "### Programming\n",
    "We will take a computational approach to understand probability and some of its law. The data will be used from General Social survey to compute several propobability propositions such as:\n",
    "\n",
    "* What is the probability for a particular proposition to be true/false?\n",
    "* Conjunction: What is the probability that two propositions are both true.\n",
    "* Conditional probability, What is the probability that one proposition is true, given that another is true."
   ]
  },
  {
   "cell_type": "code",
   "execution_count": 3,
   "id": "8f8d60e9",
   "metadata": {
    "id": "8f8d60e9"
   },
   "outputs": [],
   "source": [
    "#load the data\n",
    "gss = pd.read_csv('gss_survey_data.csv', index_col=0)"
   ]
  },
  {
   "cell_type": "code",
   "execution_count": null,
   "id": "d2f99a44",
   "metadata": {
    "id": "d2f99a44"
   },
   "outputs": [],
   "source": [
    "gss.shape"
   ]
  },
  {
   "cell_type": "code",
   "execution_count": null,
   "id": "55f0a3b3",
   "metadata": {
    "id": "55f0a3b3"
   },
   "outputs": [],
   "source": [
    "gss.head()"
   ]
  },
  {
   "cell_type": "code",
   "execution_count": null,
   "id": "3687be27",
   "metadata": {
    "id": "3687be27"
   },
   "outputs": [],
   "source": [
    "gss.columns"
   ]
  },
  {
   "cell_type": "markdown",
   "id": "f1e2de88",
   "metadata": {
    "id": "f1e2de88"
   },
   "source": [
    "The columns are\n",
    "\n",
    "* `caseid`: Respondent id (which is the index of the table).\n",
    "\n",
    "* `year`: Year when the respondent was surveyed.\n",
    "\n",
    "* `age`: Respondent's age when surveyed.\n",
    "\n",
    "* `sex`: Male or female.\n",
    "\n",
    "* `polviews`: Political views on a range from liberal to conservative.\n",
    "\n",
    "* `partyid`: Political party affiliation, Democrat, Independent, or Republican.\n",
    "\n",
    "* `indus10`: [Code](https://www.census.gov/naics/) for the industry the respondent works in.\n",
    "\n",
    "Let's look at these variables in more detail, starting with `indus10`."
   ]
  },
  {
   "cell_type": "code",
   "execution_count": null,
   "id": "10ae29bf",
   "metadata": {
    "id": "10ae29bf"
   },
   "outputs": [],
   "source": [
    "gss.describe()"
   ]
  },
  {
   "cell_type": "markdown",
   "id": "511b29f5",
   "metadata": {
    "id": "511b29f5"
   },
   "source": [
    "Let's compute probability for some propositions from Banking. The code for \"Banking and related activities\" is 6870.\n",
    "\n",
    "`Question 1: If we choose a random person from the dataset, what is the probability they are a banker?`"
   ]
  },
  {
   "cell_type": "code",
   "execution_count": null,
   "id": "f26de520",
   "metadata": {
    "id": "f26de520"
   },
   "outputs": [],
   "source": [
    "banker = (gss['indus10'] == 6870)\n",
    "banker.head()"
   ]
  },
  {
   "cell_type": "markdown",
   "id": "645ba857",
   "metadata": {
    "id": "645ba857"
   },
   "source": [
    "Let's find how many times each value appears."
   ]
  },
  {
   "cell_type": "code",
   "execution_count": null,
   "id": "a7e4802a",
   "metadata": {
    "id": "a7e4802a"
   },
   "outputs": [],
   "source": [
    "banker.value_counts(dropna=False).sort_index()"
   ]
  },
  {
   "cell_type": "code",
   "execution_count": null,
   "id": "0c0fdf2c",
   "metadata": {
    "id": "0c0fdf2c"
   },
   "outputs": [],
   "source": [
    "#Compute the probability for a chosen random person to be a banker.\n",
    "\n",
    "banker.mean()"
   ]
  },
  {
   "cell_type": "markdown",
   "id": "557fa077",
   "metadata": {
    "id": "557fa077"
   },
   "source": [
    "`Question 2: If we choose a random person from the dataset, what is the probability they are a female?`\n",
    "\n",
    "The values of the column `sex` are encoded like this:\n",
    "\n",
    "```\n",
    "1    Male\n",
    "2    Female\n",
    "```"
   ]
  },
  {
   "cell_type": "code",
   "execution_count": null,
   "id": "cf5bcc31",
   "metadata": {
    "id": "cf5bcc31",
    "outputId": "8b75978b-0a90-47d8-c7af-0a6b90c61579"
   },
   "outputs": [
    {
     "data": {
      "text/plain": [
       "0.5378575776019476"
      ]
     },
     "execution_count": 9,
     "metadata": {},
     "output_type": "execute_result"
    }
   ],
   "source": [
    "# ..... solution goes here"
   ]
  },
  {
   "cell_type": "markdown",
   "id": "474e16b9",
   "metadata": {
    "id": "474e16b9"
   },
   "source": [
    "`Question 3: If we choose a random person in this dataset, what is the probability they are liberal.`\n",
    "\n",
    "The values of `polviews` are on a seven-point scale:\n",
    "\n",
    "\n",
    "1\tExtremely liberal\n",
    "\n",
    "2\tLiberal\n",
    "\n",
    "3\tSlightly liberal\n",
    "\n",
    "4\tModerate\n",
    "\n",
    "5\tSlightly conservative\n",
    "\n",
    "6\tConservative\n",
    "\n",
    "7\tExtremely conservative\n",
    "\n",
    "\n",
    "We will consider `liberal` to be `True` for anyone whose response is \"Extremely liberal\", \"Liberal\", or \"Slightly liberal\""
   ]
  },
  {
   "cell_type": "code",
   "execution_count": null,
   "id": "71592819",
   "metadata": {
    "id": "71592819"
   },
   "outputs": [],
   "source": [
    "gss['polviews'].value_counts(dropna=False).sort_index()"
   ]
  },
  {
   "cell_type": "code",
   "execution_count": null,
   "id": "b2af9064",
   "metadata": {
    "id": "b2af9064"
   },
   "outputs": [],
   "source": [
    "liberal = (gss['polviews'] < 4)\n",
    "liberal.mean()"
   ]
  },
  {
   "cell_type": "markdown",
   "id": "f77bba32",
   "metadata": {
    "id": "f77bba32"
   },
   "source": [
    "Let's define a function that takes a Boolean series and returns a probability:"
   ]
  },
  {
   "cell_type": "code",
   "execution_count": null,
   "id": "3128e7f2",
   "metadata": {
    "id": "3128e7f2"
   },
   "outputs": [],
   "source": [
    "def prob(A):\n",
    "    \"\"\"Computes the probability of a proposition, A.\n",
    "\n",
    "    A: Boolean series\n",
    "\n",
    "    returns: probability\n",
    "    \"\"\"\n",
    "    assert isinstance(A, pd.Series)\n",
    "    assert A.dtype == 'bool'\n",
    "\n",
    "    return A.mean()"
   ]
  },
  {
   "cell_type": "code",
   "execution_count": null,
   "id": "cb634eff",
   "metadata": {
    "id": "cb634eff"
   },
   "outputs": [],
   "source": [
    "#verify if the function is behaving correct.\n",
    "prob(liberal)"
   ]
  },
  {
   "cell_type": "markdown",
   "id": "592edc4e",
   "metadata": {
    "id": "592edc4e"
   },
   "source": [
    "`Question 4: If we choose a random person from the dataset, what is the probability they are a democrat?`\n",
    "\n",
    " The values of `partyid` are encoded like this:\n",
    "\n",
    "```\n",
    "0\tStrong democrat\n",
    "1\tNot str democrat\n",
    "2\tInd,near dem\n",
    "3\tIndependent\n",
    "4\tInd,near rep\n",
    "5\tNot str republican\n",
    "6\tStrong republican\n",
    "7\tOther party\n",
    "```\n",
    "\n",
    "We will consider `democrat` to include respondents who chose \"Strong democrat\" or \"Not str democrat\":"
   ]
  },
  {
   "cell_type": "code",
   "execution_count": null,
   "id": "3b28b31a",
   "metadata": {
    "id": "3b28b31a",
    "outputId": "12705803-a488-44e0-8941-fdc8a23dece8"
   },
   "outputs": [
    {
     "data": {
      "text/plain": [
       "0.3662609048488537"
      ]
     },
     "execution_count": 14,
     "metadata": {},
     "output_type": "execute_result"
    }
   ],
   "source": [
    "# compute probability\n",
    "# .....   solution goes here.\n"
   ]
  },
  {
   "cell_type": "markdown",
   "id": "7d35d7bd",
   "metadata": {
    "id": "7d35d7bd"
   },
   "source": [
    "### Conjunction\n",
    "\n",
    "Now that we have a defined a function to compute probability, let's move on to conjunction.\n",
    "\n",
    "\"Conjunction\" is another name for the logical `and` operation.  If you have two propositions, `A` and `B`, the conjunction `A and B` is `True` if both `A` and `B` are `True`, and `False` otherwise.\n",
    "\n",
    " Use `prob` and the `&` operator to compute the following probabilities.\n",
    "\n",
    "\n",
    "* Q5: What is the probability that a random respondent is a banker and liberal?\n",
    "\n",
    "* Q6: What is the probability that a random respondent is female, a banker, and liberal?\n",
    "\n",
    "* Q7: What is the probability that a random respondent is female, a banker, and a liberal Democrat?\n"
   ]
  },
  {
   "cell_type": "code",
   "execution_count": null,
   "id": "892d9c4d",
   "metadata": {
    "id": "892d9c4d"
   },
   "outputs": [],
   "source": [
    " #Solution for Q5 goes here"
   ]
  },
  {
   "cell_type": "code",
   "execution_count": null,
   "id": "2a9cfa1b",
   "metadata": {
    "id": "2a9cfa1b"
   },
   "outputs": [],
   "source": [
    " #Solution for Q6 goes here"
   ]
  },
  {
   "cell_type": "code",
   "execution_count": null,
   "id": "0de865c6",
   "metadata": {
    "id": "0de865c6"
   },
   "outputs": [],
   "source": [
    " #Solution for Q7 goes here"
   ]
  },
  {
   "cell_type": "markdown",
   "id": "0675946e",
   "metadata": {
    "id": "0675946e"
   },
   "source": [
    "`Q8: Is the conjunction have commutative property?`"
   ]
  },
  {
   "cell_type": "code",
   "execution_count": null,
   "id": "451ee3e1",
   "metadata": {
    "id": "451ee3e1"
   },
   "outputs": [],
   "source": [
    "# Solution for Q8 goes here"
   ]
  },
  {
   "cell_type": "markdown",
   "id": "7aac9d2b",
   "metadata": {
    "id": "7aac9d2b"
   },
   "source": [
    "### Conditional probability\n",
    "\n",
    "* Q9: What is the probability that a respondent is a Democrat, given that they are liberal?\n",
    "\n",
    "* Q10: What is the probability that a respondent is female, given that they are a banker?\n",
    "\n",
    "* Q11: What is the probability that a respondent is liberal, given that they are female?\n"
   ]
  },
  {
   "cell_type": "code",
   "execution_count": null,
   "id": "5c050c74",
   "metadata": {
    "id": "5c050c74"
   },
   "outputs": [],
   "source": [
    "selected = democrat[liberal]\n",
    "prob(selected)"
   ]
  },
  {
   "cell_type": "markdown",
   "id": "39328234",
   "metadata": {
    "id": "39328234"
   },
   "source": [
    "Write a function with name `conditional` to take two Boolean series, `A` and `B`, and compute the conditional probability of `A` given `B`:\n"
   ]
  },
  {
   "cell_type": "code",
   "execution_count": null,
   "id": "da79fff8",
   "metadata": {
    "id": "da79fff8"
   },
   "outputs": [],
   "source": [
    "#solution goes here\n",
    "def conditional(A, B):\n",
    "    \"\"\"Conditional probability of A given B.\n",
    "\n",
    "    A: Boolean series\n",
    "    B: Boolean series\n",
    "\n",
    "    returns: probability\n",
    "    \"\"\"\n",
    "    return prob(A[B])"
   ]
  },
  {
   "cell_type": "code",
   "execution_count": null,
   "id": "ae02cdf2",
   "metadata": {
    "id": "ae02cdf2"
   },
   "outputs": [],
   "source": [
    "conditional(democrat, liberal)"
   ]
  },
  {
   "cell_type": "code",
   "execution_count": null,
   "id": "452484e0",
   "metadata": {
    "id": "452484e0"
   },
   "outputs": [],
   "source": [
    "  #solution for Q10 goes here"
   ]
  },
  {
   "cell_type": "code",
   "execution_count": null,
   "id": "23144792",
   "metadata": {
    "id": "23144792"
   },
   "outputs": [],
   "source": [
    "  #solution for Q11 goes here"
   ]
  },
  {
   "cell_type": "markdown",
   "id": "a1ec2ee3",
   "metadata": {
    "id": "a1ec2ee3"
   },
   "source": [
    "`Q 12: Is conditional probability commutative?`"
   ]
  },
  {
   "cell_type": "code",
   "execution_count": null,
   "id": "52e6ca4d",
   "metadata": {
    "id": "52e6ca4d"
   },
   "outputs": [],
   "source": [
    "#solution for Q12 goes here"
   ]
  },
  {
   "cell_type": "markdown",
   "id": "c10809e3",
   "metadata": {
    "id": "c10809e3"
   },
   "source": [
    "`Q: 13 Compute the probability a respondent is female, given that they are a liberal Democrat.`"
   ]
  },
  {
   "cell_type": "code",
   "execution_count": null,
   "id": "43787636",
   "metadata": {
    "id": "43787636"
   },
   "outputs": [],
   "source": [
    "#solution for Q13 goes here\n",
    "conditional(female, liberal & democrat)"
   ]
  },
  {
   "cell_type": "markdown",
   "id": "09edc518",
   "metadata": {
    "id": "09edc518"
   },
   "source": [
    "`Q 14: What fraction of female bankers are liberal Democrats?`"
   ]
  },
  {
   "cell_type": "code",
   "execution_count": null,
   "id": "5940b38f",
   "metadata": {
    "id": "5940b38f"
   },
   "outputs": [],
   "source": [
    "#solution for Q14 goes here\n",
    "conditional(liberal & democrat, female & banker)"
   ]
  },
  {
   "cell_type": "markdown",
   "id": "269a5e8b",
   "metadata": {
    "id": "269a5e8b"
   },
   "source": [
    "# More propositions"
   ]
  },
  {
   "cell_type": "markdown",
   "id": "64178084",
   "metadata": {
    "id": "64178084"
   },
   "source": [
    "Now, we'll derive three relationships between conjunction and conditional probability:\n",
    "\n",
    "* Theorem 1: Using conjunction to compute a conditional probability,\n",
    "$P(A|B) = \\frac{P(A~\\mathrm{and}~B)}{P(B)}$\n",
    "\n",
    "\n",
    "* Theorem 2: Using a conditional probability to compute a conjunction,\n",
    "$P(A~\\mathrm{and}~B) = P(B) P(A|B)$\n",
    "\n",
    "\n",
    "* Theorem 3: Using `conditional(A, B)` to compute `conditional(B, A)`, $P(A|B) = \\frac{P(A) P(B|A)}{P(B)}$\n",
    "  (Bayes's Theorem)\n"
   ]
  },
  {
   "cell_type": "markdown",
   "id": "b6c93b0c",
   "metadata": {
    "id": "b6c93b0c"
   },
   "source": [
    "We will validate above relationships with some example.\n",
    "\n"
   ]
  },
  {
   "cell_type": "markdown",
   "id": "de6b409d",
   "metadata": {
    "id": "de6b409d"
   },
   "source": [
    "\n",
    "    \n",
    "` Q15: Verify Theorem 1 by checking what fraction of builders are male`\n",
    "\n",
    "The industry code (`indus10` ) for \"Construction\" is 770."
   ]
  },
  {
   "cell_type": "code",
   "execution_count": null,
   "id": "ed2f6b5d",
   "metadata": {
    "id": "ed2f6b5d"
   },
   "outputs": [],
   "source": [
    "#solution for Q15\n",
    "male = (gss['sex']==1)\n",
    "prob(male)\n",
    "\n",
    "builder = (gss['indus10'] == 770)\n",
    "\n",
    "prob(builder)\n"
   ]
  },
  {
   "cell_type": "code",
   "execution_count": null,
   "id": "29086538",
   "metadata": {
    "id": "29086538"
   },
   "outputs": [],
   "source": [
    "print(conditional(male, builder))\n",
    "print(prob(male & builder) / prob(builder))"
   ]
  },
  {
   "cell_type": "markdown",
   "id": "d0f13eb3",
   "metadata": {
    "id": "d0f13eb3"
   },
   "source": [
    " `Q16: Verify Theorem 2 by checking the fraction of respondents who are conservative republican`\n",
    "\n",
    "Consider \"Strong Republican\" and \"Not Strong Republican\" as Republicans, and\n",
    "\n",
    "Consider \"Slightly Conservative\",\"Conservative\" and \"Extemely Conservative\" as Conservative.\n",
    "\n",
    "Hint: The `isin` function checks whether values are in a given sequence"
   ]
  },
  {
   "cell_type": "code",
   "execution_count": null,
   "id": "5d24aca4",
   "metadata": {
    "id": "5d24aca4"
   },
   "outputs": [],
   "source": [
    "#Solution for Q16 goes here\n",
    "\n",
    "conservative = (gss['polviews'] > 4)\n",
    "prob(conservative)\n",
    "\n",
    "republican= (gss['partyid'].isin([5,6]))\n",
    "prob(republican)\n",
    "\n",
    "\n",
    "prob(conservative & republican)\n",
    "prob(republican) * conditional(conservative, republican)"
   ]
  },
  {
   "cell_type": "markdown",
   "id": "6c3049e2",
   "metadata": {
    "id": "6c3049e2"
   },
   "source": [
    " `Q17: Verify Theorem 3 by computing the fraction of builders who are liberal`"
   ]
  },
  {
   "cell_type": "code",
   "execution_count": null,
   "id": "0b1b6002",
   "metadata": {
    "id": "0b1b6002"
   },
   "outputs": [],
   "source": [
    "#Solution for Q17 goes here\n"
   ]
  },
  {
   "cell_type": "markdown",
   "id": "5b7da48b",
   "metadata": {
    "id": "5b7da48b"
   },
   "source": [
    "# Joint, Marginals, and Conditional Probability\n",
    "\n",
    "Now we will take a step toward multivariate distributions, starting with two variables. We will use contingency tabke (cross-tabulation) to compute a joint distribution, then use the joint distribution to compute conditional distributions and marginal distribution."
   ]
  },
  {
   "cell_type": "markdown",
   "id": "384cb499",
   "metadata": {
    "id": "384cb499"
   },
   "source": [
    "Lets generate a dataset of colors and fruits."
   ]
  },
  {
   "cell_type": "code",
   "execution_count": null,
   "id": "2bb2d829",
   "metadata": {
    "id": "2bb2d829"
   },
   "outputs": [],
   "source": [
    "colors = ['red', 'yellow', 'green']\n",
    "fruits = ['apple', 'banana', 'grape']"
   ]
  },
  {
   "cell_type": "markdown",
   "id": "f1971afd",
   "metadata": {
    "id": "f1971afd"
   },
   "source": [
    "Now lets take a random sample of 100 fruits."
   ]
  },
  {
   "cell_type": "code",
   "execution_count": null,
   "id": "44904460",
   "metadata": {
    "id": "44904460"
   },
   "outputs": [],
   "source": [
    "np.random.seed(2)\n",
    "fruit_sample = np.random.choice(fruits, 100, replace=True)\n",
    "fruit_sample"
   ]
  },
  {
   "cell_type": "markdown",
   "id": "fa55d642",
   "metadata": {
    "id": "fa55d642"
   },
   "source": [
    "Similartly, now lets take a random sample of colors."
   ]
  },
  {
   "cell_type": "code",
   "execution_count": null,
   "id": "ef96459f",
   "metadata": {
    "id": "ef96459f"
   },
   "outputs": [],
   "source": [
    "color_sample = np.random.choice(colors, 100, replace=True)\n",
    "color_sample"
   ]
  },
  {
   "cell_type": "markdown",
   "id": "d577423b",
   "metadata": {
    "id": "d577423b"
   },
   "source": [
    "Can we see the distribution (probability mass function) on fruits and colours?"
   ]
  },
  {
   "cell_type": "code",
   "execution_count": null,
   "id": "2d3dce1d",
   "metadata": {
    "id": "2d3dce1d"
   },
   "outputs": [],
   "source": [
    "def pmf_from_seq(seq):\n",
    "    \"\"\"Make a PMF from a sequence of values.\n",
    "\n",
    "    seq: sequence\n",
    "\n",
    "    returns: Series representing a PMF\n",
    "    \"\"\"\n",
    "    pmf = pd.Series(seq).value_counts(sort=False).sort_index()\n",
    "    pmf /= pmf.sum()\n",
    "    return pmf"
   ]
  },
  {
   "cell_type": "code",
   "execution_count": null,
   "id": "782f74f2",
   "metadata": {
    "id": "782f74f2"
   },
   "outputs": [],
   "source": [
    "pmf_fruit = pmf_from_seq(fruit_sample)\n",
    "pmf_fruit.plot.bar(color='C0')\n",
    "\n",
    "plt.ylabel('Probability')\n",
    "plt.title('Distribution of fruit');"
   ]
  },
  {
   "cell_type": "code",
   "execution_count": null,
   "id": "95761566",
   "metadata": {
    "id": "95761566"
   },
   "outputs": [],
   "source": [
    "pmf_color = pmf_from_seq(color_sample)\n",
    "\n",
    "pmf_color.plot.bar(color='C1')\n",
    "\n",
    "plt.ylabel('Probability')\n",
    "plt.title('Distribution of colors');"
   ]
  },
  {
   "cell_type": "markdown",
   "id": "290ba85e",
   "metadata": {
    "id": "290ba85e"
   },
   "source": [
    "Looking at these two probability mass functions, we know the distributions of fruits, ignoring color, and we know the proportion of each color, ignoring fruit type. But if we only have the distributions and not the original data, we don't know how many apples are green, for example, or how many yellow fruits are bananas.\n",
    "\n",
    "We can compute that information in the form of contigency table using `crosstab`, which computes the number of cases for each combination of fruit type and color."
   ]
  },
  {
   "cell_type": "code",
   "execution_count": null,
   "id": "4f32fa4c",
   "metadata": {
    "id": "4f32fa4c"
   },
   "outputs": [],
   "source": [
    "contingency_table = pd.crosstab(color_sample, fruit_sample,\n",
    "                   rownames=['color'], colnames=['fruit'])\n",
    "contingency_table"
   ]
  },
  {
   "cell_type": "markdown",
   "id": "4da5af35",
   "metadata": {
    "id": "4da5af35"
   },
   "source": [
    "A contigency table (or cross tabulation) represents the \"joint distribution\" of two variables.\n",
    "\n",
    "If we normalize contingency_table so the sum of the elements is 1, the result is a joint PMF:"
   ]
  },
  {
   "cell_type": "code",
   "execution_count": null,
   "id": "81ea9087",
   "metadata": {
    "id": "81ea9087"
   },
   "outputs": [],
   "source": [
    "joint = contingency_table / contingency_table.to_numpy().sum()\n",
    "joint"
   ]
  },
  {
   "cell_type": "markdown",
   "id": "7e936e4e",
   "metadata": {
    "id": "7e936e4e"
   },
   "source": [
    "In this joint PMF table, each column represents the conditional distribution of color for a given fruit."
   ]
  },
  {
   "cell_type": "code",
   "execution_count": null,
   "id": "efd0d09f",
   "metadata": {
    "id": "efd0d09f"
   },
   "outputs": [],
   "source": [
    "col = joint['apple']\n",
    "col"
   ]
  },
  {
   "cell_type": "markdown",
   "id": "bbb52ee6",
   "metadata": {
    "id": "bbb52ee6"
   },
   "source": [
    "If we normalize it, we get the conditional distribution of color for a given fruit."
   ]
  },
  {
   "cell_type": "code",
   "execution_count": null,
   "id": "259d21c3",
   "metadata": {
    "id": "259d21c3"
   },
   "outputs": [],
   "source": [
    "col / col.sum()"
   ]
  },
  {
   "cell_type": "markdown",
   "id": "3994e938",
   "metadata": {
    "id": "3994e938"
   },
   "source": [
    "Lets write a function to compute conditional distribution"
   ]
  },
  {
   "cell_type": "code",
   "execution_count": null,
   "id": "d91b3f5b",
   "metadata": {
    "id": "d91b3f5b"
   },
   "outputs": [],
   "source": [
    "def conditional(joint, name, value):\n",
    "    \"\"\"Compute a conditional distribution.\n",
    "\n",
    "    joint: DataFrame representing a joint PMF\n",
    "    name: string name of an axis\n",
    "    value: value to condition on\n",
    "\n",
    "    returns: Series representing a conditional PMF\n",
    "    \"\"\"\n",
    "    if joint.columns.name == name:\n",
    "        cond = joint[value]\n",
    "    elif joint.index.name == name:\n",
    "        cond = joint.loc[value]\n",
    "    return cond / cond.sum()"
   ]
  },
  {
   "cell_type": "code",
   "execution_count": null,
   "id": "e3910f9f",
   "metadata": {
    "id": "e3910f9f"
   },
   "outputs": [],
   "source": [
    "conditional(joint, 'fruit', 'apple')"
   ]
  },
  {
   "cell_type": "markdown",
   "id": "85f958c0",
   "metadata": {
    "id": "85f958c0"
   },
   "source": [
    "Given a joint distribution, we can compute the unconditioned (marginal) distribution of either variable.\n",
    "\n",
    "Lets compute the marginal distribution of fruit."
   ]
  },
  {
   "cell_type": "code",
   "execution_count": null,
   "id": "211bc5e7",
   "metadata": {
    "id": "211bc5e7"
   },
   "outputs": [],
   "source": [
    "marg_fruit = joint.sum(axis=0)\n",
    "marg_fruit"
   ]
  },
  {
   "cell_type": "code",
   "execution_count": null,
   "id": "8fda63dc",
   "metadata": {
    "id": "8fda63dc"
   },
   "outputs": [],
   "source": [
    "marg_color = joint.sum(axis=1)\n",
    "marg_color"
   ]
  },
  {
   "cell_type": "markdown",
   "id": "74a513c7",
   "metadata": {
    "id": "74a513c7"
   },
   "source": [
    "Lets write a function to compute marginal distribution"
   ]
  },
  {
   "cell_type": "code",
   "execution_count": null,
   "id": "4f7139c8",
   "metadata": {
    "id": "4f7139c8"
   },
   "outputs": [],
   "source": [
    "def marginal(joint, name):\n",
    "    \"\"\"Compute a marginal distribution.\n",
    "\n",
    "    joint: DataFrame representing a joint PMF\n",
    "    name: string name of an axis\n",
    "\n",
    "    returns: Series representing a marginal PMF\n",
    "    \"\"\"\n",
    "    if joint.columns.name == name:\n",
    "        return joint.sum(axis=0)\n",
    "    elif joint.index.name == name:\n",
    "        return joint.sum(axis=1)"
   ]
  },
  {
   "cell_type": "code",
   "execution_count": null,
   "id": "15f6ae71",
   "metadata": {
    "id": "15f6ae71"
   },
   "outputs": [],
   "source": [
    "marg_fruit = marginal(joint, 'fruit')\n",
    "marg_fruit"
   ]
  },
  {
   "cell_type": "markdown",
   "id": "633ac4b5",
   "metadata": {
    "id": "633ac4b5"
   },
   "source": [
    "**Exercise**:  USe GSS survey data to explore the joint distribution of two variables, `partyid` and `polviews`.\n",
    "\n",
    "1. Make a cross tabulation of `gss['partyid']` and `gss['polviews']` and normalize it to make a joint PMF.\n",
    "\n",
    "2. Compute the marginal distributions of `polviews`, and plot the results.\n",
    "\n",
    "3. Compute the conditional distribution of partyid for people who identify themselves as \"Extremely conservative\" (`polviews`==7). How many of them are \"strong Republicans\" (`partyid`==6)?"
   ]
  },
  {
   "cell_type": "code",
   "execution_count": null,
   "id": "294f7707",
   "metadata": {
    "id": "294f7707"
   },
   "outputs": [],
   "source": [
    "#Solution for task 1 goes here\n",
    "cross_tab = pd.crosstab(gss['partyid'], gss['polviews'])\n",
    "joint_table = cross_tab / cross_tab.to_numpy().sum()\n",
    "joint_table"
   ]
  },
  {
   "cell_type": "code",
   "execution_count": null,
   "id": "1c687247",
   "metadata": {
    "id": "1c687247"
   },
   "outputs": [],
   "source": [
    "#Solution for task 2 goes here\n",
    "marginal(joint_table, 'polviews').plot.bar(color='C2')\n",
    "plt.ylabel('Probability')\n",
    "plt.title('Distribution of polviews');"
   ]
  },
  {
   "cell_type": "code",
   "execution_count": null,
   "id": "2d183fe5",
   "metadata": {
    "id": "2d183fe5"
   },
   "outputs": [],
   "source": [
    "#Solution for task 3 goes here\n",
    "cond_partyid = conditional(joint_table, 'polviews', 7)\n",
    "cond_partyid.plot.bar(label='Extremely conservative', color='C4')\n",
    "\n",
    "plt.ylabel('Probability')\n",
    "plt.title('Distribution of partyid')\n",
    "\n",
    "cond_partyid[6]"
   ]
  },
  {
   "cell_type": "markdown",
   "id": "5f59f1a5",
   "metadata": {
    "id": "5f59f1a5"
   },
   "source": [
    "**References**:\n",
    "\n",
    "1. Stats: Data and Models, by Deveaux, Velleman, Bock, Fourth (Global) Edition, Pearson 2016.– Chapters 1-4, 6-8, 13-14    \n",
    "2. Bite Size Bayes, an introduction to probability and Bayesian statistics using Python"
   ]
  },
  {
   "cell_type": "code",
   "execution_count": null,
   "id": "2f4f7303",
   "metadata": {
    "id": "2f4f7303"
   },
   "outputs": [],
   "source": []
  }
 ],
 "metadata": {
  "colab": {
   "provenance": []
  },
  "kernelspec": {
   "display_name": "Python 3 (ipykernel)",
   "language": "python",
   "name": "python3"
  },
  "language_info": {
   "codemirror_mode": {
    "name": "ipython",
    "version": 3
   },
   "file_extension": ".py",
   "mimetype": "text/x-python",
   "name": "python",
   "nbconvert_exporter": "python",
   "pygments_lexer": "ipython3",
   "version": "3.11.4"
  }
 },
 "nbformat": 4,
 "nbformat_minor": 5
}
